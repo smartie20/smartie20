{
  "nbformat": 4,
  "nbformat_minor": 0,
  "metadata": {
    "colab": {
      "name": "HEART FAILURE DNN/MACHINE LEARNING.ipynb",
      "provenance": [],
      "toc_visible": true,
      "authorship_tag": "ABX9TyOEIacSJa2jShXKyq6E+Nki",
      "include_colab_link": true
    },
    "kernelspec": {
      "name": "python3",
      "display_name": "Python 3"
    },
    "language_info": {
      "name": "python"
    }
  },
  "cells": [
    {
      "cell_type": "markdown",
      "metadata": {
        "id": "view-in-github",
        "colab_type": "text"
      },
      "source": [
        "<a href=\"https://colab.research.google.com/github/smartie20/smartie20/blob/main/HEART_FAILURE_DNN_MACHINE_LEARNING.ipynb\" target=\"_parent\"><img src=\"https://colab.research.google.com/assets/colab-badge.svg\" alt=\"Open In Colab\"/></a>"
      ]
    },
    {
      "cell_type": "markdown",
      "source": [
        "#LABS IMPORTION"
      ],
      "metadata": {
        "id": "zhsUe1QCK6QJ"
      }
    },
    {
      "cell_type": "code",
      "execution_count": null,
      "metadata": {
        "id": "h636bhgLhUCT"
      },
      "outputs": [],
      "source": [
        "import tensorflow as tf\n",
        "import numpy as np \n",
        "import matplotlib.pyplot as plt\n",
        "import seaborn as sns\n",
        "import pandas as pd\n",
        "from sklearn import metrics,model_selection,preprocessing\n",
        "from sklearn.svm import SVC\n",
        "from sklearn.neighbors import KNeighborsClassifier\n",
        "from sklearn.metrics import plot_confusion_matrix\n",
        "from sklearn.ensemble import RandomForestClassifier\n",
        "from sklearn import linear_model"
      ]
    },
    {
      "cell_type": "markdown",
      "source": [
        "#DATASET READING AND EDITING\n"
      ],
      "metadata": {
        "id": "R_EbMF4ELJlw"
      }
    },
    {
      "cell_type": "code",
      "source": [
        "#load heart dataset \n",
        "data=pd.read_csv('/content/heart.csv')\n",
        "data.head()"
      ],
      "metadata": {
        "colab": {
          "base_uri": "https://localhost:8080/",
          "height": 206
        },
        "id": "G7bIzo6uhcLX",
        "outputId": "4b8e9663-bed5-4af5-a956-d20ae417ad54"
      },
      "execution_count": null,
      "outputs": [
        {
          "output_type": "execute_result",
          "data": {
            "text/html": [
              "\n",
              "  <div id=\"df-68dbe998-1e66-43bd-a3b0-634279e083e0\">\n",
              "    <div class=\"colab-df-container\">\n",
              "      <div>\n",
              "<style scoped>\n",
              "    .dataframe tbody tr th:only-of-type {\n",
              "        vertical-align: middle;\n",
              "    }\n",
              "\n",
              "    .dataframe tbody tr th {\n",
              "        vertical-align: top;\n",
              "    }\n",
              "\n",
              "    .dataframe thead th {\n",
              "        text-align: right;\n",
              "    }\n",
              "</style>\n",
              "<table border=\"1\" class=\"dataframe\">\n",
              "  <thead>\n",
              "    <tr style=\"text-align: right;\">\n",
              "      <th></th>\n",
              "      <th>Age</th>\n",
              "      <th>Sex</th>\n",
              "      <th>ChestPainType</th>\n",
              "      <th>RestingBP</th>\n",
              "      <th>Cholesterol</th>\n",
              "      <th>FastingBS</th>\n",
              "      <th>RestingECG</th>\n",
              "      <th>MaxHR</th>\n",
              "      <th>ExerciseAngina</th>\n",
              "      <th>Oldpeak</th>\n",
              "      <th>ST_Slope</th>\n",
              "      <th>HeartDisease</th>\n",
              "    </tr>\n",
              "  </thead>\n",
              "  <tbody>\n",
              "    <tr>\n",
              "      <th>0</th>\n",
              "      <td>40</td>\n",
              "      <td>M</td>\n",
              "      <td>ATA</td>\n",
              "      <td>140</td>\n",
              "      <td>289</td>\n",
              "      <td>0</td>\n",
              "      <td>Normal</td>\n",
              "      <td>172</td>\n",
              "      <td>N</td>\n",
              "      <td>0.0</td>\n",
              "      <td>Up</td>\n",
              "      <td>0</td>\n",
              "    </tr>\n",
              "    <tr>\n",
              "      <th>1</th>\n",
              "      <td>49</td>\n",
              "      <td>F</td>\n",
              "      <td>NAP</td>\n",
              "      <td>160</td>\n",
              "      <td>180</td>\n",
              "      <td>0</td>\n",
              "      <td>Normal</td>\n",
              "      <td>156</td>\n",
              "      <td>N</td>\n",
              "      <td>1.0</td>\n",
              "      <td>Flat</td>\n",
              "      <td>1</td>\n",
              "    </tr>\n",
              "    <tr>\n",
              "      <th>2</th>\n",
              "      <td>37</td>\n",
              "      <td>M</td>\n",
              "      <td>ATA</td>\n",
              "      <td>130</td>\n",
              "      <td>283</td>\n",
              "      <td>0</td>\n",
              "      <td>ST</td>\n",
              "      <td>98</td>\n",
              "      <td>N</td>\n",
              "      <td>0.0</td>\n",
              "      <td>Up</td>\n",
              "      <td>0</td>\n",
              "    </tr>\n",
              "    <tr>\n",
              "      <th>3</th>\n",
              "      <td>48</td>\n",
              "      <td>F</td>\n",
              "      <td>ASY</td>\n",
              "      <td>138</td>\n",
              "      <td>214</td>\n",
              "      <td>0</td>\n",
              "      <td>Normal</td>\n",
              "      <td>108</td>\n",
              "      <td>Y</td>\n",
              "      <td>1.5</td>\n",
              "      <td>Flat</td>\n",
              "      <td>1</td>\n",
              "    </tr>\n",
              "    <tr>\n",
              "      <th>4</th>\n",
              "      <td>54</td>\n",
              "      <td>M</td>\n",
              "      <td>NAP</td>\n",
              "      <td>150</td>\n",
              "      <td>195</td>\n",
              "      <td>0</td>\n",
              "      <td>Normal</td>\n",
              "      <td>122</td>\n",
              "      <td>N</td>\n",
              "      <td>0.0</td>\n",
              "      <td>Up</td>\n",
              "      <td>0</td>\n",
              "    </tr>\n",
              "  </tbody>\n",
              "</table>\n",
              "</div>\n",
              "      <button class=\"colab-df-convert\" onclick=\"convertToInteractive('df-68dbe998-1e66-43bd-a3b0-634279e083e0')\"\n",
              "              title=\"Convert this dataframe to an interactive table.\"\n",
              "              style=\"display:none;\">\n",
              "        \n",
              "  <svg xmlns=\"http://www.w3.org/2000/svg\" height=\"24px\"viewBox=\"0 0 24 24\"\n",
              "       width=\"24px\">\n",
              "    <path d=\"M0 0h24v24H0V0z\" fill=\"none\"/>\n",
              "    <path d=\"M18.56 5.44l.94 2.06.94-2.06 2.06-.94-2.06-.94-.94-2.06-.94 2.06-2.06.94zm-11 1L8.5 8.5l.94-2.06 2.06-.94-2.06-.94L8.5 2.5l-.94 2.06-2.06.94zm10 10l.94 2.06.94-2.06 2.06-.94-2.06-.94-.94-2.06-.94 2.06-2.06.94z\"/><path d=\"M17.41 7.96l-1.37-1.37c-.4-.4-.92-.59-1.43-.59-.52 0-1.04.2-1.43.59L10.3 9.45l-7.72 7.72c-.78.78-.78 2.05 0 2.83L4 21.41c.39.39.9.59 1.41.59.51 0 1.02-.2 1.41-.59l7.78-7.78 2.81-2.81c.8-.78.8-2.07 0-2.86zM5.41 20L4 18.59l7.72-7.72 1.47 1.35L5.41 20z\"/>\n",
              "  </svg>\n",
              "      </button>\n",
              "      \n",
              "  <style>\n",
              "    .colab-df-container {\n",
              "      display:flex;\n",
              "      flex-wrap:wrap;\n",
              "      gap: 12px;\n",
              "    }\n",
              "\n",
              "    .colab-df-convert {\n",
              "      background-color: #E8F0FE;\n",
              "      border: none;\n",
              "      border-radius: 50%;\n",
              "      cursor: pointer;\n",
              "      display: none;\n",
              "      fill: #1967D2;\n",
              "      height: 32px;\n",
              "      padding: 0 0 0 0;\n",
              "      width: 32px;\n",
              "    }\n",
              "\n",
              "    .colab-df-convert:hover {\n",
              "      background-color: #E2EBFA;\n",
              "      box-shadow: 0px 1px 2px rgba(60, 64, 67, 0.3), 0px 1px 3px 1px rgba(60, 64, 67, 0.15);\n",
              "      fill: #174EA6;\n",
              "    }\n",
              "\n",
              "    [theme=dark] .colab-df-convert {\n",
              "      background-color: #3B4455;\n",
              "      fill: #D2E3FC;\n",
              "    }\n",
              "\n",
              "    [theme=dark] .colab-df-convert:hover {\n",
              "      background-color: #434B5C;\n",
              "      box-shadow: 0px 1px 3px 1px rgba(0, 0, 0, 0.15);\n",
              "      filter: drop-shadow(0px 1px 2px rgba(0, 0, 0, 0.3));\n",
              "      fill: #FFFFFF;\n",
              "    }\n",
              "  </style>\n",
              "\n",
              "      <script>\n",
              "        const buttonEl =\n",
              "          document.querySelector('#df-68dbe998-1e66-43bd-a3b0-634279e083e0 button.colab-df-convert');\n",
              "        buttonEl.style.display =\n",
              "          google.colab.kernel.accessAllowed ? 'block' : 'none';\n",
              "\n",
              "        async function convertToInteractive(key) {\n",
              "          const element = document.querySelector('#df-68dbe998-1e66-43bd-a3b0-634279e083e0');\n",
              "          const dataTable =\n",
              "            await google.colab.kernel.invokeFunction('convertToInteractive',\n",
              "                                                     [key], {});\n",
              "          if (!dataTable) return;\n",
              "\n",
              "          const docLinkHtml = 'Like what you see? Visit the ' +\n",
              "            '<a target=\"_blank\" href=https://colab.research.google.com/notebooks/data_table.ipynb>data table notebook</a>'\n",
              "            + ' to learn more about interactive tables.';\n",
              "          element.innerHTML = '';\n",
              "          dataTable['output_type'] = 'display_data';\n",
              "          await google.colab.output.renderOutput(dataTable, element);\n",
              "          const docLink = document.createElement('div');\n",
              "          docLink.innerHTML = docLinkHtml;\n",
              "          element.appendChild(docLink);\n",
              "        }\n",
              "      </script>\n",
              "    </div>\n",
              "  </div>\n",
              "  "
            ],
            "text/plain": [
              "   Age Sex ChestPainType  ...  Oldpeak  ST_Slope  HeartDisease\n",
              "0   40   M           ATA  ...      0.0        Up             0\n",
              "1   49   F           NAP  ...      1.0      Flat             1\n",
              "2   37   M           ATA  ...      0.0        Up             0\n",
              "3   48   F           ASY  ...      1.5      Flat             1\n",
              "4   54   M           NAP  ...      0.0        Up             0\n",
              "\n",
              "[5 rows x 12 columns]"
            ]
          },
          "metadata": {},
          "execution_count": 28
        }
      ]
    },
    {
      "cell_type": "markdown",
      "source": [
        "##CHECKING FOR NULLS/MISSING VALUES"
      ],
      "metadata": {
        "id": "t0Cbypa5LdpD"
      }
    },
    {
      "cell_type": "code",
      "source": [
        "#describe a DataFream and info\n",
        "data.info()\n",
        "data.describe()"
      ],
      "metadata": {
        "colab": {
          "base_uri": "https://localhost:8080/",
          "height": 651
        },
        "id": "C37kzn2whidV",
        "outputId": "b3c12082-0adb-4caf-b812-4a43e1d2a1f8"
      },
      "execution_count": null,
      "outputs": [
        {
          "output_type": "stream",
          "name": "stdout",
          "text": [
            "<class 'pandas.core.frame.DataFrame'>\n",
            "RangeIndex: 918 entries, 0 to 917\n",
            "Data columns (total 12 columns):\n",
            " #   Column          Non-Null Count  Dtype  \n",
            "---  ------          --------------  -----  \n",
            " 0   Age             918 non-null    int64  \n",
            " 1   Sex             918 non-null    object \n",
            " 2   ChestPainType   918 non-null    object \n",
            " 3   RestingBP       918 non-null    int64  \n",
            " 4   Cholesterol     918 non-null    int64  \n",
            " 5   FastingBS       918 non-null    int64  \n",
            " 6   RestingECG      918 non-null    object \n",
            " 7   MaxHR           918 non-null    int64  \n",
            " 8   ExerciseAngina  918 non-null    object \n",
            " 9   Oldpeak         918 non-null    float64\n",
            " 10  ST_Slope        918 non-null    object \n",
            " 11  HeartDisease    918 non-null    int64  \n",
            "dtypes: float64(1), int64(6), object(5)\n",
            "memory usage: 86.2+ KB\n"
          ]
        },
        {
          "output_type": "execute_result",
          "data": {
            "text/html": [
              "\n",
              "  <div id=\"df-ee0abbfb-9a79-4ece-b857-adb9f1bc7e0e\">\n",
              "    <div class=\"colab-df-container\">\n",
              "      <div>\n",
              "<style scoped>\n",
              "    .dataframe tbody tr th:only-of-type {\n",
              "        vertical-align: middle;\n",
              "    }\n",
              "\n",
              "    .dataframe tbody tr th {\n",
              "        vertical-align: top;\n",
              "    }\n",
              "\n",
              "    .dataframe thead th {\n",
              "        text-align: right;\n",
              "    }\n",
              "</style>\n",
              "<table border=\"1\" class=\"dataframe\">\n",
              "  <thead>\n",
              "    <tr style=\"text-align: right;\">\n",
              "      <th></th>\n",
              "      <th>Age</th>\n",
              "      <th>RestingBP</th>\n",
              "      <th>Cholesterol</th>\n",
              "      <th>FastingBS</th>\n",
              "      <th>MaxHR</th>\n",
              "      <th>Oldpeak</th>\n",
              "      <th>HeartDisease</th>\n",
              "    </tr>\n",
              "  </thead>\n",
              "  <tbody>\n",
              "    <tr>\n",
              "      <th>count</th>\n",
              "      <td>918.000000</td>\n",
              "      <td>918.000000</td>\n",
              "      <td>918.000000</td>\n",
              "      <td>918.000000</td>\n",
              "      <td>918.000000</td>\n",
              "      <td>918.000000</td>\n",
              "      <td>918.000000</td>\n",
              "    </tr>\n",
              "    <tr>\n",
              "      <th>mean</th>\n",
              "      <td>53.510893</td>\n",
              "      <td>132.396514</td>\n",
              "      <td>198.799564</td>\n",
              "      <td>0.233115</td>\n",
              "      <td>136.809368</td>\n",
              "      <td>0.887364</td>\n",
              "      <td>0.553377</td>\n",
              "    </tr>\n",
              "    <tr>\n",
              "      <th>std</th>\n",
              "      <td>9.432617</td>\n",
              "      <td>18.514154</td>\n",
              "      <td>109.384145</td>\n",
              "      <td>0.423046</td>\n",
              "      <td>25.460334</td>\n",
              "      <td>1.066570</td>\n",
              "      <td>0.497414</td>\n",
              "    </tr>\n",
              "    <tr>\n",
              "      <th>min</th>\n",
              "      <td>28.000000</td>\n",
              "      <td>0.000000</td>\n",
              "      <td>0.000000</td>\n",
              "      <td>0.000000</td>\n",
              "      <td>60.000000</td>\n",
              "      <td>-2.600000</td>\n",
              "      <td>0.000000</td>\n",
              "    </tr>\n",
              "    <tr>\n",
              "      <th>25%</th>\n",
              "      <td>47.000000</td>\n",
              "      <td>120.000000</td>\n",
              "      <td>173.250000</td>\n",
              "      <td>0.000000</td>\n",
              "      <td>120.000000</td>\n",
              "      <td>0.000000</td>\n",
              "      <td>0.000000</td>\n",
              "    </tr>\n",
              "    <tr>\n",
              "      <th>50%</th>\n",
              "      <td>54.000000</td>\n",
              "      <td>130.000000</td>\n",
              "      <td>223.000000</td>\n",
              "      <td>0.000000</td>\n",
              "      <td>138.000000</td>\n",
              "      <td>0.600000</td>\n",
              "      <td>1.000000</td>\n",
              "    </tr>\n",
              "    <tr>\n",
              "      <th>75%</th>\n",
              "      <td>60.000000</td>\n",
              "      <td>140.000000</td>\n",
              "      <td>267.000000</td>\n",
              "      <td>0.000000</td>\n",
              "      <td>156.000000</td>\n",
              "      <td>1.500000</td>\n",
              "      <td>1.000000</td>\n",
              "    </tr>\n",
              "    <tr>\n",
              "      <th>max</th>\n",
              "      <td>77.000000</td>\n",
              "      <td>200.000000</td>\n",
              "      <td>603.000000</td>\n",
              "      <td>1.000000</td>\n",
              "      <td>202.000000</td>\n",
              "      <td>6.200000</td>\n",
              "      <td>1.000000</td>\n",
              "    </tr>\n",
              "  </tbody>\n",
              "</table>\n",
              "</div>\n",
              "      <button class=\"colab-df-convert\" onclick=\"convertToInteractive('df-ee0abbfb-9a79-4ece-b857-adb9f1bc7e0e')\"\n",
              "              title=\"Convert this dataframe to an interactive table.\"\n",
              "              style=\"display:none;\">\n",
              "        \n",
              "  <svg xmlns=\"http://www.w3.org/2000/svg\" height=\"24px\"viewBox=\"0 0 24 24\"\n",
              "       width=\"24px\">\n",
              "    <path d=\"M0 0h24v24H0V0z\" fill=\"none\"/>\n",
              "    <path d=\"M18.56 5.44l.94 2.06.94-2.06 2.06-.94-2.06-.94-.94-2.06-.94 2.06-2.06.94zm-11 1L8.5 8.5l.94-2.06 2.06-.94-2.06-.94L8.5 2.5l-.94 2.06-2.06.94zm10 10l.94 2.06.94-2.06 2.06-.94-2.06-.94-.94-2.06-.94 2.06-2.06.94z\"/><path d=\"M17.41 7.96l-1.37-1.37c-.4-.4-.92-.59-1.43-.59-.52 0-1.04.2-1.43.59L10.3 9.45l-7.72 7.72c-.78.78-.78 2.05 0 2.83L4 21.41c.39.39.9.59 1.41.59.51 0 1.02-.2 1.41-.59l7.78-7.78 2.81-2.81c.8-.78.8-2.07 0-2.86zM5.41 20L4 18.59l7.72-7.72 1.47 1.35L5.41 20z\"/>\n",
              "  </svg>\n",
              "      </button>\n",
              "      \n",
              "  <style>\n",
              "    .colab-df-container {\n",
              "      display:flex;\n",
              "      flex-wrap:wrap;\n",
              "      gap: 12px;\n",
              "    }\n",
              "\n",
              "    .colab-df-convert {\n",
              "      background-color: #E8F0FE;\n",
              "      border: none;\n",
              "      border-radius: 50%;\n",
              "      cursor: pointer;\n",
              "      display: none;\n",
              "      fill: #1967D2;\n",
              "      height: 32px;\n",
              "      padding: 0 0 0 0;\n",
              "      width: 32px;\n",
              "    }\n",
              "\n",
              "    .colab-df-convert:hover {\n",
              "      background-color: #E2EBFA;\n",
              "      box-shadow: 0px 1px 2px rgba(60, 64, 67, 0.3), 0px 1px 3px 1px rgba(60, 64, 67, 0.15);\n",
              "      fill: #174EA6;\n",
              "    }\n",
              "\n",
              "    [theme=dark] .colab-df-convert {\n",
              "      background-color: #3B4455;\n",
              "      fill: #D2E3FC;\n",
              "    }\n",
              "\n",
              "    [theme=dark] .colab-df-convert:hover {\n",
              "      background-color: #434B5C;\n",
              "      box-shadow: 0px 1px 3px 1px rgba(0, 0, 0, 0.15);\n",
              "      filter: drop-shadow(0px 1px 2px rgba(0, 0, 0, 0.3));\n",
              "      fill: #FFFFFF;\n",
              "    }\n",
              "  </style>\n",
              "\n",
              "      <script>\n",
              "        const buttonEl =\n",
              "          document.querySelector('#df-ee0abbfb-9a79-4ece-b857-adb9f1bc7e0e button.colab-df-convert');\n",
              "        buttonEl.style.display =\n",
              "          google.colab.kernel.accessAllowed ? 'block' : 'none';\n",
              "\n",
              "        async function convertToInteractive(key) {\n",
              "          const element = document.querySelector('#df-ee0abbfb-9a79-4ece-b857-adb9f1bc7e0e');\n",
              "          const dataTable =\n",
              "            await google.colab.kernel.invokeFunction('convertToInteractive',\n",
              "                                                     [key], {});\n",
              "          if (!dataTable) return;\n",
              "\n",
              "          const docLinkHtml = 'Like what you see? Visit the ' +\n",
              "            '<a target=\"_blank\" href=https://colab.research.google.com/notebooks/data_table.ipynb>data table notebook</a>'\n",
              "            + ' to learn more about interactive tables.';\n",
              "          element.innerHTML = '';\n",
              "          dataTable['output_type'] = 'display_data';\n",
              "          await google.colab.output.renderOutput(dataTable, element);\n",
              "          const docLink = document.createElement('div');\n",
              "          docLink.innerHTML = docLinkHtml;\n",
              "          element.appendChild(docLink);\n",
              "        }\n",
              "      </script>\n",
              "    </div>\n",
              "  </div>\n",
              "  "
            ],
            "text/plain": [
              "              Age   RestingBP  ...     Oldpeak  HeartDisease\n",
              "count  918.000000  918.000000  ...  918.000000    918.000000\n",
              "mean    53.510893  132.396514  ...    0.887364      0.553377\n",
              "std      9.432617   18.514154  ...    1.066570      0.497414\n",
              "min     28.000000    0.000000  ...   -2.600000      0.000000\n",
              "25%     47.000000  120.000000  ...    0.000000      0.000000\n",
              "50%     54.000000  130.000000  ...    0.600000      1.000000\n",
              "75%     60.000000  140.000000  ...    1.500000      1.000000\n",
              "max     77.000000  200.000000  ...    6.200000      1.000000\n",
              "\n",
              "[8 rows x 7 columns]"
            ]
          },
          "metadata": {},
          "execution_count": 29
        }
      ]
    },
    {
      "cell_type": "markdown",
      "source": [
        "##MAPPING TO CONVERT OBJECTS TO NUMBERS"
      ],
      "metadata": {
        "id": "UHkyxkKYLhkD"
      }
    },
    {
      "cell_type": "code",
      "source": [
        "#Convert text values to numerical values in (RestingECG,ChestPainType,ExerciseAngina,ST_Slope,Sex)\n",
        "def convert_text_to_num(x):\n",
        "  set_x=set(x)\n",
        "  index_w={}\n",
        "  w_index={}\n",
        "  for i,w in enumerate(set_x):\n",
        "    index_w[i]=w\n",
        "    w_index[w]=i\n",
        "  x=x.replace(w_index)\n",
        "  return x,w_index,index_w "
      ],
      "metadata": {
        "id": "FBZ-VxCghsnT"
      },
      "execution_count": null,
      "outputs": []
    },
    {
      "cell_type": "code",
      "source": [
        "data.RestingECG,RestingECG_1_w_index,RestingECG_1_w_index=convert_text_to_num(data.RestingECG)\n",
        "data.ChestPainType,ChestPainType_1_w_index,ChestPainType_1_w_index=convert_text_to_num(data.ChestPainType)\n",
        "data.ExerciseAngina,ExerciseAngina_1_w_index,ExerciseAngina_1_w_index=convert_text_to_num(data.ExerciseAngina)\n",
        "data.ST_Slope,ST_Slope_1_w_index,ST_Slope_1_w_index=convert_text_to_num(data.ST_Slope)\n",
        "data.Sex,Sex_1_w_index,Sex_1_w_index=convert_text_to_num(data.Sex)"
      ],
      "metadata": {
        "id": "rzNFeSiChxAn"
      },
      "execution_count": null,
      "outputs": []
    },
    {
      "cell_type": "markdown",
      "source": [
        "#TARGETS/FEATURES SPECIFICATION"
      ],
      "metadata": {
        "id": "TZR3CwzvMLSH"
      }
    },
    {
      "cell_type": "code",
      "source": [
        "# Set up X and y variables\n",
        "x=data.iloc[:,0:11] #Split the data  inputs(features (x))\n",
        "print('feauter are : ','\\n' ,x)\n",
        "\n",
        "y=data.iloc[:,11:]#split the data output(target(y))\n",
        "print('target is:','\\n' ,y)"
      ],
      "metadata": {
        "colab": {
          "base_uri": "https://localhost:8080/"
        },
        "id": "nSLRv899hyzP",
        "outputId": "b93f6542-61b6-4df3-cb21-f5f8d6c9b4da"
      },
      "execution_count": null,
      "outputs": [
        {
          "output_type": "stream",
          "name": "stdout",
          "text": [
            "feauter are :  \n",
            "      Age  Sex  ChestPainType  ...  ExerciseAngina  Oldpeak  ST_Slope\n",
            "0     40    0              3  ...               0      0.0         1\n",
            "1     49    1              0  ...               0      1.0         0\n",
            "2     37    0              3  ...               0      0.0         1\n",
            "3     48    1              1  ...               1      1.5         0\n",
            "4     54    0              0  ...               0      0.0         1\n",
            "..   ...  ...            ...  ...             ...      ...       ...\n",
            "913   45    0              2  ...               0      1.2         0\n",
            "914   68    0              1  ...               0      3.4         0\n",
            "915   57    0              1  ...               1      1.2         0\n",
            "916   57    1              3  ...               0      0.0         0\n",
            "917   38    0              0  ...               0      0.0         1\n",
            "\n",
            "[918 rows x 11 columns]\n",
            "target is: \n",
            "      HeartDisease\n",
            "0               0\n",
            "1               1\n",
            "2               0\n",
            "3               1\n",
            "4               0\n",
            "..            ...\n",
            "913             1\n",
            "914             1\n",
            "915             1\n",
            "916             1\n",
            "917             0\n",
            "\n",
            "[918 rows x 1 columns]\n"
          ]
        }
      ]
    },
    {
      "cell_type": "markdown",
      "source": [
        "#DOING SOME NECESSARIES"
      ],
      "metadata": {
        "id": "R2zR_z1xMVn3"
      }
    },
    {
      "cell_type": "code",
      "source": [
        "#defining estimators function with a array to save the models after learning for bars chart ploting \n",
        "def print_estimator_name(estimator):\n",
        "    return estimator.__class__.__name__"
      ],
      "metadata": {
        "id": "6XaHIWdI0WTx"
      },
      "execution_count": null,
      "outputs": []
    },
    {
      "cell_type": "code",
      "source": [
        "estimators=[] #estimators array\n",
        "classifiers = [] #classifiers array to save classification models for confusion matrices ploting\n",
        "scores = [] #scores array for saveing presicion and recall results for comparing\n",
        "acc=[] #saving accuracy scores for bars chart ploting\n",
        "f1=[] #saveing f1 score for bars chart ploting"
      ],
      "metadata": {
        "id": "FoDmj18HwBnb"
      },
      "execution_count": null,
      "outputs": []
    },
    {
      "cell_type": "markdown",
      "source": [
        "#PREPROCESSING"
      ],
      "metadata": {
        "id": "pi0r-1c9Md7x"
      }
    },
    {
      "cell_type": "code",
      "source": [
        "x_normalizer=preprocessing.StandardScaler()\n",
        "x_norm=x_normalizer.fit_transform(x)"
      ],
      "metadata": {
        "id": "t87pMC0MnkHA"
      },
      "execution_count": null,
      "outputs": []
    },
    {
      "cell_type": "markdown",
      "source": [
        "#TRAIN - TEST SPLITING"
      ],
      "metadata": {
        "id": "_siMwWhoMvFH"
      }
    },
    {
      "cell_type": "code",
      "source": [
        "x_train,x_test,y_train,y_test=model_selection.train_test_split(x_norm,y,test_size=0.1,random_state=42,stratify=y)\n",
        "print('x_train :',x_train.shape), print('y_train: ',y_train.shape)\n",
        "print('x_test :',x_test.shape), print('y_test :',y_test.shape)"
      ],
      "metadata": {
        "id": "Hel9uL3Th5nl",
        "colab": {
          "base_uri": "https://localhost:8080/"
        },
        "outputId": "914159c8-63d7-4a7e-f1de-119b3d40864c"
      },
      "execution_count": null,
      "outputs": [
        {
          "output_type": "stream",
          "name": "stdout",
          "text": [
            "x_train : (826, 11)\n",
            "y_train:  (826, 1)\n",
            "x_test : (92, 11)\n",
            "y_test : (92, 1)\n"
          ]
        },
        {
          "output_type": "execute_result",
          "data": {
            "text/plain": [
              "(None, None)"
            ]
          },
          "metadata": {},
          "execution_count": 36
        }
      ]
    },
    {
      "cell_type": "markdown",
      "source": [
        "#MODELS SELECTION"
      ],
      "metadata": {
        "id": "9PGRDgB-Mzfx"
      }
    },
    {
      "cell_type": "markdown",
      "source": [
        "##1ST MODEL DEEP NEURAL NETWORK"
      ],
      "metadata": {
        "id": "JwYzL510M74u"
      }
    },
    {
      "cell_type": "code",
      "source": [
        "dnn_model=tf.keras.models.Sequential([\n",
        "                                  tf.keras.layers.Flatten(),\n",
        "                                  tf.keras.layers.Dense(units=64,activation=tf.nn.leaky_relu,kernel_initializer=tf.initializers.he_uniform(seed=42),name='layer_1'),\n",
        "                                  tf.keras.layers.Dropout(0.1),\n",
        "                                  tf.keras.layers.Dense(units=128,activation=tf.nn.leaky_relu,kernel_initializer=tf.initializers.he_uniform(seed=42),name='layer_2'),\n",
        "                                  tf.keras.layers.Dropout(0.1),\n",
        "                                  tf.keras.layers.Dense(units=11,activation=tf.nn.sigmoid,name='output')\n",
        "                                  ])"
      ],
      "metadata": {
        "id": "UG6tQrY4j5MG"
      },
      "execution_count": null,
      "outputs": []
    },
    {
      "cell_type": "code",
      "source": [
        "dnn_model.compile(optimizer=tf.optimizers.Adam(),loss=tf.losses.sparse_categorical_crossentropy,metrics=['accuracy'])"
      ],
      "metadata": {
        "id": "riV4CVSDkCC4"
      },
      "execution_count": null,
      "outputs": []
    },
    {
      "cell_type": "code",
      "source": [
        "dnn_model.fit(x=x_train,y=y_train,batch_size=20,epochs=10,verbose=1,validation_data=(x_test,y_test))"
      ],
      "metadata": {
        "id": "Zv9ZKGpckFmD",
        "outputId": "e96b978c-d355-4939-c82f-83065da2f5cb",
        "colab": {
          "base_uri": "https://localhost:8080/"
        }
      },
      "execution_count": null,
      "outputs": [
        {
          "output_type": "stream",
          "name": "stdout",
          "text": [
            "Epoch 1/10\n",
            "42/42 [==============================] - 1s 6ms/step - loss: 1.3507 - accuracy: 0.6247 - val_loss: 0.6367 - val_accuracy: 0.9130\n",
            "Epoch 2/10\n",
            "42/42 [==============================] - 0s 3ms/step - loss: 0.5140 - accuracy: 0.8220 - val_loss: 0.3052 - val_accuracy: 0.9239\n",
            "Epoch 3/10\n",
            "42/42 [==============================] - 0s 3ms/step - loss: 0.4276 - accuracy: 0.8269 - val_loss: 0.3063 - val_accuracy: 0.9348\n",
            "Epoch 4/10\n",
            "42/42 [==============================] - 0s 3ms/step - loss: 0.4021 - accuracy: 0.8378 - val_loss: 0.2755 - val_accuracy: 0.9348\n",
            "Epoch 5/10\n",
            "42/42 [==============================] - 0s 3ms/step - loss: 0.3805 - accuracy: 0.8462 - val_loss: 0.2746 - val_accuracy: 0.9457\n",
            "Epoch 6/10\n",
            "42/42 [==============================] - 0s 3ms/step - loss: 0.3765 - accuracy: 0.8438 - val_loss: 0.2724 - val_accuracy: 0.9348\n",
            "Epoch 7/10\n",
            "42/42 [==============================] - 0s 3ms/step - loss: 0.3680 - accuracy: 0.8450 - val_loss: 0.2590 - val_accuracy: 0.9457\n",
            "Epoch 8/10\n",
            "42/42 [==============================] - 0s 3ms/step - loss: 0.3542 - accuracy: 0.8487 - val_loss: 0.2634 - val_accuracy: 0.9130\n",
            "Epoch 9/10\n",
            "42/42 [==============================] - 0s 3ms/step - loss: 0.3495 - accuracy: 0.8584 - val_loss: 0.2482 - val_accuracy: 0.9457\n",
            "Epoch 10/10\n",
            "42/42 [==============================] - 0s 3ms/step - loss: 0.3421 - accuracy: 0.8608 - val_loss: 0.2394 - val_accuracy: 0.9457\n"
          ]
        },
        {
          "output_type": "execute_result",
          "data": {
            "text/plain": [
              "<keras.callbacks.History at 0x7f0efe09f890>"
            ]
          },
          "metadata": {},
          "execution_count": 39
        }
      ]
    },
    {
      "cell_type": "code",
      "source": [
        "pred=dnn_model.predict(x_test)\n",
        "tf.argmax(pred,axis=-1)"
      ],
      "metadata": {
        "colab": {
          "base_uri": "https://localhost:8080/"
        },
        "id": "rv9NUCNbkYZ1",
        "outputId": "10275f27-5fb2-437a-f895-7591a55a45a1"
      },
      "execution_count": null,
      "outputs": [
        {
          "output_type": "execute_result",
          "data": {
            "text/plain": [
              "<tf.Tensor: shape=(92,), dtype=int64, numpy=\n",
              "array([1, 1, 1, 0, 0, 1, 1, 0, 1, 1, 0, 1, 0, 1, 0, 1, 0, 1, 1, 0, 0, 0,\n",
              "       1, 1, 1, 1, 1, 0, 1, 1, 0, 0, 0, 0, 0, 0, 1, 1, 1, 0, 1, 0, 1, 1,\n",
              "       0, 0, 0, 1, 0, 0, 1, 1, 0, 1, 1, 0, 1, 1, 0, 1, 0, 0, 1, 1, 0, 0,\n",
              "       1, 1, 1, 0, 1, 0, 1, 0, 0, 1, 0, 1, 1, 0, 1, 0, 1, 0, 1, 1, 1, 1,\n",
              "       1, 0, 1, 1])>"
            ]
          },
          "metadata": {},
          "execution_count": 40
        }
      ]
    },
    {
      "cell_type": "markdown",
      "source": [
        "###RESULTS AND SCORES MONITORING"
      ],
      "metadata": {
        "id": "goX1yHk9NSnf"
      }
    },
    {
      "cell_type": "code",
      "source": [
        "accuracy =metrics.accuracy_score(y_test,np.argmax(pred,-1))\n",
        "precision =metrics.precision_score(y_test,np.argmax(pred,-1),average='weighted')\n",
        "recall =metrics.recall_score(y_test,np.argmax(pred,-1),average='weighted')\n",
        "f1_score =metrics.f1_score(y_test,np.argmax(pred,-1),average='weighted')"
      ],
      "metadata": {
        "id": "6XPNBJYylu6K"
      },
      "execution_count": null,
      "outputs": []
    },
    {
      "cell_type": "code",
      "source": [
        "print('accuracy',accuracy)\n",
        "print('precision',precision)\n",
        "print('recall',recall)\n",
        "print('f1_score',f1_score)"
      ],
      "metadata": {
        "colab": {
          "base_uri": "https://localhost:8080/"
        },
        "id": "5QoCCW3-lyPJ",
        "outputId": "e14b411c-cc0b-46f9-d645-87d4506d8bf1"
      },
      "execution_count": null,
      "outputs": [
        {
          "output_type": "stream",
          "name": "stdout",
          "text": [
            "accuracy 0.9456521739130435\n",
            "precision 0.9457357859531773\n",
            "recall 0.9456521739130435\n",
            "f1_score 0.9455805179035797\n"
          ]
        }
      ]
    },
    {
      "cell_type": "code",
      "source": [
        "scores_dict = {\"precision\": precision, \"recall\": recall}\n",
        "scores.append(scores_dict)\n",
        "acc.append(accuracy)\n",
        "f1.append(f1_score)\n",
        "estimators.append(print_estimator_name(dnn_model))"
      ],
      "metadata": {
        "id": "JyxEzigF2HSC"
      },
      "execution_count": null,
      "outputs": []
    },
    {
      "cell_type": "markdown",
      "source": [
        "##2ED MODEL SUPPORT VECTOR MACHINE"
      ],
      "metadata": {
        "id": "X9dhyY3ONUhc"
      }
    },
    {
      "cell_type": "code",
      "source": [
        "SVC=SVC(C=0.5)\n",
        "SVC.fit(x_train,y_train)"
      ],
      "metadata": {
        "colab": {
          "base_uri": "https://localhost:8080/"
        },
        "id": "snExRZYKl4wn",
        "outputId": "214e8f8f-fd2d-4b0c-9f19-b4e8c7a6e6ca"
      },
      "execution_count": null,
      "outputs": [
        {
          "output_type": "stream",
          "name": "stderr",
          "text": [
            "/usr/local/lib/python3.7/dist-packages/sklearn/utils/validation.py:993: DataConversionWarning: A column-vector y was passed when a 1d array was expected. Please change the shape of y to (n_samples, ), for example using ravel().\n",
            "  y = column_or_1d(y, warn=True)\n"
          ]
        },
        {
          "output_type": "execute_result",
          "data": {
            "text/plain": [
              "SVC(C=0.5)"
            ]
          },
          "metadata": {},
          "execution_count": 44
        }
      ]
    },
    {
      "cell_type": "code",
      "source": [
        "y_pred =SVC.predict(x_test)"
      ],
      "metadata": {
        "id": "_Q9i7FoAnPiv"
      },
      "execution_count": null,
      "outputs": []
    },
    {
      "cell_type": "markdown",
      "source": [
        "###RESULTS AND SCORES MONITORING\n"
      ],
      "metadata": {
        "id": "ujzNq9SzNf3h"
      }
    },
    {
      "cell_type": "code",
      "source": [
        "accuracy = metrics.accuracy_score(y_test, y_pred)\n",
        "precision = metrics.precision_score(y_test, y_pred,average='weighted')\n",
        "recall = metrics.recall_score(y_test, y_pred,average='weighted')\n",
        "f1_score = metrics.f1_score(y_test, y_pred,average='weighted')"
      ],
      "metadata": {
        "id": "mtFM4tdMnSg5"
      },
      "execution_count": null,
      "outputs": []
    },
    {
      "cell_type": "code",
      "source": [
        "print('accuracy',accuracy)\n",
        "print('precision',precision)\n",
        "print('recall',recall)\n",
        "print('f1_score',f1_score)"
      ],
      "metadata": {
        "colab": {
          "base_uri": "https://localhost:8080/"
        },
        "id": "6YC3gI91nUmK",
        "outputId": "707c3fd3-c752-4e4d-b3d8-426288ba4c5f"
      },
      "execution_count": null,
      "outputs": [
        {
          "output_type": "stream",
          "name": "stdout",
          "text": [
            "accuracy 0.9239130434782609\n",
            "precision 0.9239339464882943\n",
            "recall 0.9239130434782609\n",
            "f1_score 0.9238127250650116\n"
          ]
        }
      ]
    },
    {
      "cell_type": "code",
      "source": [
        "classifiers.append(SVC)\n",
        "scores_dict = { \"precision\": precision, \"recall\": recall}\n",
        "scores.append(scores_dict)\n",
        "acc.append(accuracy)\n",
        "f1.append(f1_score)\n",
        "estimators.append(print_estimator_name(SVC))"
      ],
      "metadata": {
        "id": "broiWLavwtSa"
      },
      "execution_count": null,
      "outputs": []
    },
    {
      "cell_type": "markdown",
      "source": [
        "##3ED MODEL KNEIGHBORS"
      ],
      "metadata": {
        "id": "afawQlW7Npot"
      }
    },
    {
      "cell_type": "code",
      "source": [
        "KNN= KNeighborsClassifier()\n",
        "KNN.fit(x_train, y_train)"
      ],
      "metadata": {
        "colab": {
          "base_uri": "https://localhost:8080/"
        },
        "id": "UhqqewS-nXBe",
        "outputId": "b7dc4164-086a-4ab0-bed1-51d7b2b8e8d5"
      },
      "execution_count": null,
      "outputs": [
        {
          "output_type": "stream",
          "name": "stderr",
          "text": [
            "/usr/local/lib/python3.7/dist-packages/sklearn/neighbors/_classification.py:198: DataConversionWarning: A column-vector y was passed when a 1d array was expected. Please change the shape of y to (n_samples,), for example using ravel().\n",
            "  return self._fit(X, y)\n"
          ]
        },
        {
          "output_type": "execute_result",
          "data": {
            "text/plain": [
              "KNeighborsClassifier()"
            ]
          },
          "metadata": {},
          "execution_count": 49
        }
      ]
    },
    {
      "cell_type": "code",
      "source": [
        "y_pred = KNN.predict(x_test)"
      ],
      "metadata": {
        "id": "P2rf6O93pdw9"
      },
      "execution_count": null,
      "outputs": []
    },
    {
      "cell_type": "markdown",
      "source": [
        "###RESULTS AND SCORES MONITORING\n"
      ],
      "metadata": {
        "id": "6-Ql4oQoN0pT"
      }
    },
    {
      "cell_type": "code",
      "source": [
        "accuracy = metrics.accuracy_score(y_test, y_pred)\n",
        "precision = metrics.precision_score(y_test, y_pred,average='weighted')\n",
        "recall = metrics.recall_score(y_test, y_pred,average='weighted')\n",
        "f1_score = metrics.f1_score(y_test, y_pred,average='weighted')"
      ],
      "metadata": {
        "id": "MTUylyNUpfrc"
      },
      "execution_count": null,
      "outputs": []
    },
    {
      "cell_type": "code",
      "source": [
        "print('accuracy',accuracy)\n",
        "print('precision',precision)\n",
        "print('recall',recall)\n",
        "print('f1_score',f1_score)"
      ],
      "metadata": {
        "colab": {
          "base_uri": "https://localhost:8080/"
        },
        "id": "Z_LuDfu1piDA",
        "outputId": "cb54264a-07c4-447b-9813-ea8dbe5798b3"
      },
      "execution_count": null,
      "outputs": [
        {
          "output_type": "stream",
          "name": "stdout",
          "text": [
            "accuracy 0.9021739130434783\n",
            "precision 0.9080812854442344\n",
            "recall 0.9021739130434783\n",
            "f1_score 0.9024637165953105\n"
          ]
        }
      ]
    },
    {
      "cell_type": "code",
      "source": [
        "classifiers.append(KNN)\n",
        "scores_dict = { \"precision\": precision, \"recall\": recall}\n",
        "scores.append(scores_dict)\n",
        "acc.append(accuracy)\n",
        "f1.append(f1_score)\n",
        "estimators.append(print_estimator_name(KNN))"
      ],
      "metadata": {
        "id": "2KLHveS5w628"
      },
      "execution_count": null,
      "outputs": []
    },
    {
      "cell_type": "markdown",
      "source": [
        "##4TH MODEL RANDOM FOREST"
      ],
      "metadata": {
        "id": "WccSAwsMN5df"
      }
    },
    {
      "cell_type": "code",
      "source": [
        "rdf = RandomForestClassifier()\n",
        "rdf = rdf.fit(x_train, y_train)"
      ],
      "metadata": {
        "colab": {
          "base_uri": "https://localhost:8080/"
        },
        "id": "UdY-9S_Bsq74",
        "outputId": "9e179675-dbba-4163-8fb6-c22d454227b0"
      },
      "execution_count": null,
      "outputs": [
        {
          "output_type": "stream",
          "name": "stderr",
          "text": [
            "/usr/local/lib/python3.7/dist-packages/ipykernel_launcher.py:2: DataConversionWarning: A column-vector y was passed when a 1d array was expected. Please change the shape of y to (n_samples,), for example using ravel().\n",
            "  \n"
          ]
        }
      ]
    },
    {
      "cell_type": "code",
      "source": [
        "y_pred = rdf.predict(x_test)"
      ],
      "metadata": {
        "id": "gc3s2_0OuBtI"
      },
      "execution_count": null,
      "outputs": []
    },
    {
      "cell_type": "markdown",
      "source": [
        "###RESULTS AND SCORES MONITORING\n"
      ],
      "metadata": {
        "id": "kGuNYc29PGh0"
      }
    },
    {
      "cell_type": "code",
      "source": [
        "accuracy = metrics.accuracy_score(y_test, y_pred)\n",
        "precision = metrics.precision_score(y_test, y_pred,average='weighted')\n",
        "recall = metrics.recall_score(y_test, y_pred,average='weighted')\n",
        "f1_score = metrics.f1_score(y_test, y_pred,average='weighted')"
      ],
      "metadata": {
        "id": "fWwo6aSYuL2S"
      },
      "execution_count": null,
      "outputs": []
    },
    {
      "cell_type": "code",
      "source": [
        "print('accuracy',accuracy)\n",
        "print('precision',precision)\n",
        "print('recall',recall)\n",
        "print('f1_score',f1_score)"
      ],
      "metadata": {
        "colab": {
          "base_uri": "https://localhost:8080/"
        },
        "id": "2XbDVYNUuN-e",
        "outputId": "cad9f9e4-8fde-44c9-bbcd-3931cffeaad4"
      },
      "execution_count": null,
      "outputs": [
        {
          "output_type": "stream",
          "name": "stdout",
          "text": [
            "accuracy 0.9130434782608695\n",
            "precision 0.9142403169559027\n",
            "recall 0.9130434782608695\n",
            "f1_score 0.9132091097308488\n"
          ]
        }
      ]
    },
    {
      "cell_type": "code",
      "source": [
        "classifiers.append(rdf)\n",
        "scores_dict = { \"precision\": precision, \"recall\": recall}\n",
        "scores.append(scores_dict)\n",
        "acc.append(accuracy)\n",
        "f1.append(f1_score)\n",
        "estimators.append(print_estimator_name(rdf))"
      ],
      "metadata": {
        "id": "kQ6kUf3Cw-xE"
      },
      "execution_count": null,
      "outputs": []
    },
    {
      "cell_type": "markdown",
      "source": [
        "##5TH MODEL LOGISTIC REGRESSION"
      ],
      "metadata": {
        "id": "LdST3SX7PPLR"
      }
    },
    {
      "cell_type": "code",
      "source": [
        "model_logis = linear_model.LogisticRegression(C= 0.001, fit_intercept= True, solver='sag')\n",
        "model_logis.fit(x_train, y_train)"
      ],
      "metadata": {
        "colab": {
          "base_uri": "https://localhost:8080/"
        },
        "id": "fEiwZ7A7uQ6A",
        "outputId": "4bd9ce73-2c71-41df-9a92-2d76fecb14fd"
      },
      "execution_count": null,
      "outputs": [
        {
          "output_type": "stream",
          "name": "stderr",
          "text": [
            "/usr/local/lib/python3.7/dist-packages/sklearn/utils/validation.py:993: DataConversionWarning: A column-vector y was passed when a 1d array was expected. Please change the shape of y to (n_samples, ), for example using ravel().\n",
            "  y = column_or_1d(y, warn=True)\n"
          ]
        },
        {
          "output_type": "execute_result",
          "data": {
            "text/plain": [
              "LogisticRegression(C=0.001, solver='sag')"
            ]
          },
          "metadata": {},
          "execution_count": 59
        }
      ]
    },
    {
      "cell_type": "code",
      "source": [
        "y_pred = model_logis.predict(x_test)"
      ],
      "metadata": {
        "id": "-eyankwyuv8V"
      },
      "execution_count": null,
      "outputs": []
    },
    {
      "cell_type": "markdown",
      "source": [
        "###RESULTS AND SCORES MONITORING\n"
      ],
      "metadata": {
        "id": "DeP9a_BgPmSO"
      }
    },
    {
      "cell_type": "code",
      "source": [
        "accuracy = metrics.accuracy_score(y_test, y_pred)\n",
        "precision = metrics.precision_score(y_test, y_pred,average='weighted')\n",
        "recall = metrics.recall_score(y_test, y_pred,average='weighted')\n",
        "f1_score = metrics.f1_score(y_test, y_pred,average='weighted')"
      ],
      "metadata": {
        "id": "j4ERa1Bnu05s"
      },
      "execution_count": null,
      "outputs": []
    },
    {
      "cell_type": "code",
      "source": [
        "print('accuracy',accuracy)\n",
        "print('precision',precision)\n",
        "print('recall',recall)\n",
        "print('f1_score',f1_score)"
      ],
      "metadata": {
        "colab": {
          "base_uri": "https://localhost:8080/"
        },
        "id": "svhHHEFVu5Hy",
        "outputId": "f8edbf8a-20b7-4730-e9f9-68a827585c95"
      },
      "execution_count": null,
      "outputs": [
        {
          "output_type": "stream",
          "name": "stdout",
          "text": [
            "accuracy 0.8913043478260869\n",
            "precision 0.8967309578293561\n",
            "recall 0.8913043478260869\n",
            "f1_score 0.8900330536486143\n"
          ]
        }
      ]
    },
    {
      "cell_type": "code",
      "source": [
        "classifiers.append(model_logis)\n",
        "scores_dict = { \"precision\": precision, \"recall\": recall}\n",
        "scores.append(scores_dict)\n",
        "acc.append(accuracy)\n",
        "f1.append(f1_score)\n",
        "estimators.append(print_estimator_name(model_logis))"
      ],
      "metadata": {
        "id": "zwK7VBSpxEBJ"
      },
      "execution_count": null,
      "outputs": []
    },
    {
      "cell_type": "markdown",
      "source": [
        "#STATISTICS"
      ],
      "metadata": {
        "id": "bbZNB0KePtBa"
      }
    },
    {
      "cell_type": "code",
      "source": [
        "print('estimators', estimators)\n",
        "print('='*100)\n",
        "print('classifiers', classifiers)"
      ],
      "metadata": {
        "colab": {
          "base_uri": "https://localhost:8080/"
        },
        "id": "riKEF9z4wgQr",
        "outputId": "922e6074-1ddc-41a1-b926-d18ba77a7e04"
      },
      "execution_count": null,
      "outputs": [
        {
          "output_type": "stream",
          "name": "stdout",
          "text": [
            "estimators ['Sequential', 'SVC', 'KNeighborsClassifier', 'RandomForestClassifier', 'LogisticRegression']\n",
            "====================================================================================================\n",
            "classifiers [SVC(C=0.5), KNeighborsClassifier(), RandomForestClassifier(), LogisticRegression(C=0.001, solver='sag')]\n"
          ]
        }
      ]
    },
    {
      "cell_type": "code",
      "source": [
        "#ploting confusion matrix for each model for comapring assistant\n",
        "fig, axes = plt.subplots(nrows=2, ncols=2, figsize=(15,10))\n",
        "for cls, ax in zip(classifiers, axes.flatten()):\n",
        "    plot_confusion_matrix(cls, \n",
        "                          x_test, \n",
        "                          y_test, \n",
        "                          ax=ax, \n",
        "                           )\n",
        "    ax._textitle.sett(type(cls).__name__)\n",
        "    "
      ],
      "metadata": {
        "colab": {
          "base_uri": "https://localhost:8080/",
          "height": 788
        },
        "id": "OHRFACihwM6b",
        "outputId": "ec67ee3e-bb0e-4b11-c0be-b6a676265f11"
      },
      "execution_count": null,
      "outputs": [
        {
          "output_type": "stream",
          "name": "stderr",
          "text": [
            "/usr/local/lib/python3.7/dist-packages/sklearn/utils/deprecation.py:87: FutureWarning: Function plot_confusion_matrix is deprecated; Function `plot_confusion_matrix` is deprecated in 1.0 and will be removed in 1.2. Use one of the class methods: ConfusionMatrixDisplay.from_predictions or ConfusionMatrixDisplay.from_estimator.\n",
            "  warnings.warn(msg, category=FutureWarning)\n",
            "/usr/local/lib/python3.7/dist-packages/sklearn/utils/deprecation.py:87: FutureWarning: Function plot_confusion_matrix is deprecated; Function `plot_confusion_matrix` is deprecated in 1.0 and will be removed in 1.2. Use one of the class methods: ConfusionMatrixDisplay.from_predictions or ConfusionMatrixDisplay.from_estimator.\n",
            "  warnings.warn(msg, category=FutureWarning)\n",
            "/usr/local/lib/python3.7/dist-packages/sklearn/utils/deprecation.py:87: FutureWarning: Function plot_confusion_matrix is deprecated; Function `plot_confusion_matrix` is deprecated in 1.0 and will be removed in 1.2. Use one of the class methods: ConfusionMatrixDisplay.from_predictions or ConfusionMatrixDisplay.from_estimator.\n",
            "  warnings.warn(msg, category=FutureWarning)\n",
            "/usr/local/lib/python3.7/dist-packages/sklearn/utils/deprecation.py:87: FutureWarning: Function plot_confusion_matrix is deprecated; Function `plot_confusion_matrix` is deprecated in 1.0 and will be removed in 1.2. Use one of the class methods: ConfusionMatrixDisplay.from_predictions or ConfusionMatrixDisplay.from_estimator.\n",
            "  warnings.warn(msg, category=FutureWarning)\n"
          ]
        },
        {
          "output_type": "display_data",
          "data": {
            "image/png": "[encoded data removed]",
            "text/plain": [
              "<Figure size 1080x720 with 8 Axes>"
            ]
          },
          "metadata": {
            "needs_background": "light"
          }
        }
      ]
    },
    {
      "cell_type": "code",
      "source": [
        "dnn_matrix=metrics.confusion_matrix(y_test,np.argmax(pred,-1))\n",
        "sns.heatmap(dnn_matrix, annot=True )\n",
        "plt.tight_layout()  \n",
        "plt.show()"
      ],
      "metadata": {
        "colab": {
          "base_uri": "https://localhost:8080/",
          "height": 296
        },
        "id": "LZDLbq1FxrIs",
        "outputId": "a1101f37-c20b-43dd-d712-b112be94fe5d"
      },
      "execution_count": null,
      "outputs": [
        {
          "output_type": "display_data",
          "data": {
            "image/png": "[encoded data removed]",
            "text/plain": [
              "<Figure size 432x288 with 2 Axes>"
            ]
          },
          "metadata": {
            "needs_background": "light"
          }
        }
      ]
    },
    {
      "cell_type": "code",
      "source": [
        "#presenting accuracy and f1 score for comparing finishing and choosing the best model\n",
        "estimators=['dnn','SVC','KNN','rdf', 'model_logis']\n",
        "fig, ax = plt.subplots()\n",
        "width=0.2\n",
        "bar_plot1 = ax.bar(np.arange(len(estimators)),f1,width,tick_label=estimators)\n",
        "bar_plot2 = ax.bar(np.arange(len(estimators))+width,acc,width,tick_label=estimators)\n",
        "\n",
        "ax.set_xlabel('Classifiers')\n",
        "ax.set_ylabel('Metric Performance')\n",
        "ax.legend(('f1_score','accuracy'),loc='lower right')\n",
        "\n",
        "def autolabel(rects):\n",
        "    for rect in rects:\n",
        "        height = rect.get_height()\n",
        "        ax.text(rect.get_x() + rect.get_width()/2., 0.5*height,height,ha='center', va='bottom', rotation=90)\n",
        "autolabel(bar_plot1)\n",
        "autolabel(bar_plot2)\n",
        "plt.show()"
      ],
      "metadata": {
        "colab": {
          "base_uri": "https://localhost:8080/",
          "height": 280
        },
        "id": "3OJ7VHo7wSDZ",
        "outputId": "bb38dcd4-3348-4fea-a058-461649e51e09"
      },
      "execution_count": null,
      "outputs": [
        {
          "output_type": "display_data",
          "data": {
            "image/png": "[encoded data removed]",
            "text/plain": [
              "<Figure size 432x288 with 1 Axes>"
            ]
          },
          "metadata": {
            "needs_background": "light"
          }
        }
      ]
    },
    {
      "cell_type": "code",
      "source": [
        "# calling precision and recall calculations for each model and converting the dictionary to dataframe for easy comparing\n",
        "scores_df = pd.DataFrame(scores)\n",
        "scores_df"
      ],
      "metadata": {
        "colab": {
          "base_uri": "https://localhost:8080/",
          "height": 206
        },
        "id": "7YJQJnMQ_Aiq",
        "outputId": "957bd9fb-899b-47f1-f68a-4897add21cc7"
      },
      "execution_count": null,
      "outputs": [
        {
          "output_type": "execute_result",
          "data": {
            "text/html": [
              "\n",
              "  <div id=\"df-35a953c3-c9f3-4bae-8358-4f389f9f9ec1\">\n",
              "    <div class=\"colab-df-container\">\n",
              "      <div>\n",
              "<style scoped>\n",
              "    .dataframe tbody tr th:only-of-type {\n",
              "        vertical-align: middle;\n",
              "    }\n",
              "\n",
              "    .dataframe tbody tr th {\n",
              "        vertical-align: top;\n",
              "    }\n",
              "\n",
              "    .dataframe thead th {\n",
              "        text-align: right;\n",
              "    }\n",
              "</style>\n",
              "<table border=\"1\" class=\"dataframe\">\n",
              "  <thead>\n",
              "    <tr style=\"text-align: right;\">\n",
              "      <th></th>\n",
              "      <th>precision</th>\n",
              "      <th>recall</th>\n",
              "    </tr>\n",
              "  </thead>\n",
              "  <tbody>\n",
              "    <tr>\n",
              "      <th>0</th>\n",
              "      <td>0.945736</td>\n",
              "      <td>0.945652</td>\n",
              "    </tr>\n",
              "    <tr>\n",
              "      <th>1</th>\n",
              "      <td>0.923934</td>\n",
              "      <td>0.923913</td>\n",
              "    </tr>\n",
              "    <tr>\n",
              "      <th>2</th>\n",
              "      <td>0.908081</td>\n",
              "      <td>0.902174</td>\n",
              "    </tr>\n",
              "    <tr>\n",
              "      <th>3</th>\n",
              "      <td>0.914240</td>\n",
              "      <td>0.913043</td>\n",
              "    </tr>\n",
              "    <tr>\n",
              "      <th>4</th>\n",
              "      <td>0.896731</td>\n",
              "      <td>0.891304</td>\n",
              "    </tr>\n",
              "  </tbody>\n",
              "</table>\n",
              "</div>\n",
              "      <button class=\"colab-df-convert\" onclick=\"convertToInteractive('df-35a953c3-c9f3-4bae-8358-4f389f9f9ec1')\"\n",
              "              title=\"Convert this dataframe to an interactive table.\"\n",
              "              style=\"display:none;\">\n",
              "        \n",
              "  <svg xmlns=\"http://www.w3.org/2000/svg\" height=\"24px\"viewBox=\"0 0 24 24\"\n",
              "       width=\"24px\">\n",
              "    <path d=\"M0 0h24v24H0V0z\" fill=\"none\"/>\n",
              "    <path d=\"M18.56 5.44l.94 2.06.94-2.06 2.06-.94-2.06-.94-.94-2.06-.94 2.06-2.06.94zm-11 1L8.5 8.5l.94-2.06 2.06-.94-2.06-.94L8.5 2.5l-.94 2.06-2.06.94zm10 10l.94 2.06.94-2.06 2.06-.94-2.06-.94-.94-2.06-.94 2.06-2.06.94z\"/><path d=\"M17.41 7.96l-1.37-1.37c-.4-.4-.92-.59-1.43-.59-.52 0-1.04.2-1.43.59L10.3 9.45l-7.72 7.72c-.78.78-.78 2.05 0 2.83L4 21.41c.39.39.9.59 1.41.59.51 0 1.02-.2 1.41-.59l7.78-7.78 2.81-2.81c.8-.78.8-2.07 0-2.86zM5.41 20L4 18.59l7.72-7.72 1.47 1.35L5.41 20z\"/>\n",
              "  </svg>\n",
              "      </button>\n",
              "      \n",
              "  <style>\n",
              "    .colab-df-container {\n",
              "      display:flex;\n",
              "      flex-wrap:wrap;\n",
              "      gap: 12px;\n",
              "    }\n",
              "\n",
              "    .colab-df-convert {\n",
              "      background-color: #E8F0FE;\n",
              "      border: none;\n",
              "      border-radius: 50%;\n",
              "      cursor: pointer;\n",
              "      display: none;\n",
              "      fill: #1967D2;\n",
              "      height: 32px;\n",
              "      padding: 0 0 0 0;\n",
              "      width: 32px;\n",
              "    }\n",
              "\n",
              "    .colab-df-convert:hover {\n",
              "      background-color: #E2EBFA;\n",
              "      box-shadow: 0px 1px 2px rgba(60, 64, 67, 0.3), 0px 1px 3px 1px rgba(60, 64, 67, 0.15);\n",
              "      fill: #174EA6;\n",
              "    }\n",
              "\n",
              "    [theme=dark] .colab-df-convert {\n",
              "      background-color: #3B4455;\n",
              "      fill: #D2E3FC;\n",
              "    }\n",
              "\n",
              "    [theme=dark] .colab-df-convert:hover {\n",
              "      background-color: #434B5C;\n",
              "      box-shadow: 0px 1px 3px 1px rgba(0, 0, 0, 0.15);\n",
              "      filter: drop-shadow(0px 1px 2px rgba(0, 0, 0, 0.3));\n",
              "      fill: #FFFFFF;\n",
              "    }\n",
              "  </style>\n",
              "\n",
              "      <script>\n",
              "        const buttonEl =\n",
              "          document.querySelector('#df-35a953c3-c9f3-4bae-8358-4f389f9f9ec1 button.colab-df-convert');\n",
              "        buttonEl.style.display =\n",
              "          google.colab.kernel.accessAllowed ? 'block' : 'none';\n",
              "\n",
              "        async function convertToInteractive(key) {\n",
              "          const element = document.querySelector('#df-35a953c3-c9f3-4bae-8358-4f389f9f9ec1');\n",
              "          const dataTable =\n",
              "            await google.colab.kernel.invokeFunction('convertToInteractive',\n",
              "                                                     [key], {});\n",
              "          if (!dataTable) return;\n",
              "\n",
              "          const docLinkHtml = 'Like what you see? Visit the ' +\n",
              "            '<a target=\"_blank\" href=https://colab.research.google.com/notebooks/data_table.ipynb>data table notebook</a>'\n",
              "            + ' to learn more about interactive tables.';\n",
              "          element.innerHTML = '';\n",
              "          dataTable['output_type'] = 'display_data';\n",
              "          await google.colab.output.renderOutput(dataTable, element);\n",
              "          const docLink = document.createElement('div');\n",
              "          docLink.innerHTML = docLinkHtml;\n",
              "          element.appendChild(docLink);\n",
              "        }\n",
              "      </script>\n",
              "    </div>\n",
              "  </div>\n",
              "  "
            ],
            "text/plain": [
              "   precision    recall\n",
              "0   0.945736  0.945652\n",
              "1   0.923934  0.923913\n",
              "2   0.908081  0.902174\n",
              "3   0.914240  0.913043\n",
              "4   0.896731  0.891304"
            ]
          },
          "metadata": {},
          "execution_count": 68
        }
      ]
    },
    {
      "cell_type": "markdown",
      "source": [
        "**BY COMAPRING PRECISION/RECALL DATAFRAME , MODELS CONFUSION MATRECIS AND BARS CHART PLOT .. WE CAN ASSUME THAT DEEP NEURAL NETWORKS IS THE BEST MODEL TO TRAIN THIS DATASET**"
      ],
      "metadata": {
        "id": "MfwTZHEsUwgR"
      }
    }
  ]
}