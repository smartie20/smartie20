{
  "nbformat": 4,
  "nbformat_minor": 0,
  "metadata": {
    "colab": {
      "name": "ASDproecsymptoms.ipynb",
      "provenance": [],
      "authorship_tag": "ABX9TyPrdTEZkTFeB34A+fu7vNyB",
      "include_colab_link": true
    },
    "kernelspec": {
      "name": "python3",
      "display_name": "Python 3"
    },
    "language_info": {
      "name": "python"
    }
  },
  "cells": [
    {
      "cell_type": "markdown",
      "metadata": {
        "id": "view-in-github",
        "colab_type": "text"
      },
      "source": [
        "<a href=\"https://colab.research.google.com/github/smartie20/smartie20/blob/main/ASDproecsymptoms.ipynb\" target=\"_parent\"><img src=\"https://colab.research.google.com/assets/colab-badge.svg\" alt=\"Open In Colab\"/></a>"
      ]
    },
    {
      "cell_type": "code",
      "source": [
        "!unzip /content/asdsymptoms.zip"
      ],
      "metadata": {
        "id": "5Ftr_ky5D0YW",
        "outputId": "a9cea5b5-7032-4d1e-aad4-728ef70cead5",
        "colab": {
          "base_uri": "https://localhost:8080/"
        }
      },
      "execution_count": null,
      "outputs": [
        {
          "output_type": "stream",
          "name": "stdout",
          "text": [
            "Archive:  /content/asdsymptoms.zip\n",
            "  inflating: asdsymptoms/Autism_Data.arff  \n"
          ]
        }
      ]
    },
    {
      "cell_type": "code",
      "source": [
        "import pandas as pd\n",
        "from sklearn import metrics,model_selection,preprocessing\n",
        "from sklearn.preprocessing import StandardScaler\n",
        "from sklearn.tree import DecisionTreeClassifier\n",
        "from sklearn import metrics\n",
        "from sklearn.metrics import confusion_matrix\n",
        "from sklearn. model_selection import train_test_split\n",
        "import matplotlib.pyplot as plt\n",
        "import numpy as np \n",
        "import seaborn as sns\n",
        "from sklearn.metrics import plot_confusion_matrix"
      ],
      "metadata": {
        "id": "_3DjxeYRTCjn"
      },
      "execution_count": null,
      "outputs": []
    },
    {
      "cell_type": "code",
      "source": [
        "pd.set_option(\"display.max_columns\", None)\n",
        "df = pd.read_csv(\"/content/asdsymptoms/Autism_Data.arff\", sep = r',', skipinitialspace = True)\n",
        "\n",
        "df = df.fillna(0)\n",
        "df = df.drop([\"A7_Score\"], axis = 1)\n",
        "df = df.drop([\"used_app_before\"], axis = 1)\n",
        "\n",
        "df = df.rename(columns = {\"austim\": \"autism\", \"contry_of_res\": \"country\"})\n",
        "df = df.replace(\"yes\", 1)\n",
        "df = df.replace(\"no\", 0)\n",
        "df = df.replace(\"f\", 1)\n",
        "df = df.replace(\"m\", 0)\n",
        "df = df.replace(\"YES\", 1)\n",
        "df = df.replace(\"NO\", 0)\n",
        "df = df.replace(\"?\", 0)\n",
        "\n",
        "# Typecasting\n",
        "df[\"ethnicity\"] = df[\"ethnicity\"].astype(str)\n",
        "df[\"country\"] = df[\"country\"].astype(str)\n",
        "df[\"age_desc\"] = df[\"age_desc\"].astype(str)\n",
        "df[\"relation\"] = df[\"relation\"].astype(str)\n",
        "\n",
        "# Initializing Encoder\n",
        "number = preprocessing.LabelEncoder()\n",
        "\n",
        "# Encoding\n",
        "df[\"ethnicity\"] = number.fit_transform(df[\"ethnicity\"])\n",
        "df[\"country\"] = number.fit_transform(df[\"country\"])\n",
        "df[\"age_desc\"] = number.fit_transform(df[\"age_desc\"])\n",
        "df[\"relation\"] = number.fit_transform(df[\"relation\"])\n",
        "df.head"
      ],
      "metadata": {
        "id": "_yB-fTcbkz5q",
        "colab": {
          "base_uri": "https://localhost:8080/"
        },
        "outputId": "5e57124b-43aa-4a49-9551-1e4d3b9feedf"
      },
      "execution_count": null,
      "outputs": [
        {
          "output_type": "execute_result",
          "data": {
            "text/plain": [
              "<bound method NDFrame.head of      A1_Score  A2_Score  A3_Score  A4_Score  A5_Score  A6_Score  A8_Score  \\\n",
              "0           1         1         1         1         0         0         1   \n",
              "1           1         1         0         1         0         0         1   \n",
              "2           1         1         0         1         1         0         1   \n",
              "3           1         1         0         1         0         0         1   \n",
              "4           1         0         0         0         0         0         1   \n",
              "..        ...       ...       ...       ...       ...       ...       ...   \n",
              "699         0         1         0         1         1         0         1   \n",
              "700         1         0         0         0         0         0         1   \n",
              "701         1         0         1         1         1         0         1   \n",
              "702         1         0         0         1         1         0         0   \n",
              "703         1         0         1         1         1         0         1   \n",
              "\n",
              "     A9_Score  A10_Score age  gender  ethnicity  jundice  autism  country  \\\n",
              "0           0          0  26       1         10        0       0       10   \n",
              "1           0          1  24       0          6        0       1       25   \n",
              "2           1          1  27       0          6        1       1       61   \n",
              "3           0          1  35       1         10        0       1       10   \n",
              "4           0          0  40       1          2        0       0       32   \n",
              "..        ...        ...  ..     ...        ...      ...     ...      ...   \n",
              "699         1          1  25       1         10        0       0       59   \n",
              "700         0          1  34       0          5        0       0       49   \n",
              "701         0          1  24       1          2        0       0       59   \n",
              "702         1          1  35       0          1        0       0       55   \n",
              "703         1          1  26       1         10        0       0       30   \n",
              "\n",
              "     result  age_desc  relation  Class/ASD  \n",
              "0         6         0         5          0  \n",
              "1         5         0         5          0  \n",
              "2         8         0         3          1  \n",
              "3         6         0         5          0  \n",
              "4         2         0         1          0  \n",
              "..      ...       ...       ...        ...  \n",
              "699       7         0         5          1  \n",
              "700       3         0         3          0  \n",
              "701       7         0         1          1  \n",
              "702       6         0         5          0  \n",
              "703       8         0         5          1  \n",
              "\n",
              "[704 rows x 19 columns]>"
            ]
          },
          "metadata": {},
          "execution_count": 36
        }
      ]
    },
    {
      "cell_type": "code",
      "source": [
        "X = df.drop([\"autism\"], axis = 1).values\n",
        "y = df[\"autism\"].values\n",
        "X_train,X_test,y_train,y_test = train_test_split(X,y,test_size=0.2,random_state=42)"
      ],
      "metadata": {
        "id": "0GcLZdXVk6JR"
      },
      "execution_count": null,
      "outputs": []
    },
    {
      "cell_type": "code",
      "source": [
        "scaler = StandardScaler()\n",
        "scaler.fit(X_train)\n",
        "X_train = scaler.transform(X_train)\n",
        "X_test = scaler.transform(X_test)"
      ],
      "metadata": {
        "id": "a9AwPr3dlFmG"
      },
      "execution_count": null,
      "outputs": []
    },
    {
      "cell_type": "code",
      "source": [
        "#defining estimators function with a array to save the models after learning for bars chart ploting \n",
        "def print_estimator_name(estimator):\n",
        "    return estimator.__class__.__name__\n",
        "estimators=[] #estimators array\n",
        "classifiers = [] #classifiers array to save classification models for confusion matrices ploting\n",
        "scores = [] #scores array for saveing presicion and recall results for comparing\n",
        "acc=[] #saving accuracy scores for bars chart ploting\n",
        "f1=[] #saveing f1 score for bars chart ploting"
      ],
      "metadata": {
        "id": "qVA3CRDfhSFa"
      },
      "execution_count": null,
      "outputs": []
    },
    {
      "cell_type": "code",
      "source": [
        "clf = DecisionTreeClassifier(criterion = \"entropy\", max_depth = 5)\n",
        "clf = clf.fit(X_train,y_train)"
      ],
      "metadata": {
        "id": "HhiwZjuAlIkr"
      },
      "execution_count": null,
      "outputs": []
    },
    {
      "cell_type": "code",
      "source": [
        "y_pred = clf.predict(X_test)"
      ],
      "metadata": {
        "id": "UXMJZ3Axlur3"
      },
      "execution_count": null,
      "outputs": []
    },
    {
      "cell_type": "code",
      "source": [
        "accuracy = metrics.accuracy_score(y_test, y_pred)\n",
        "precision = metrics.precision_score(y_test, y_pred,average='weighted')\n",
        "recall = metrics.recall_score(y_test, y_pred,average='weighted')\n",
        "f1_score = metrics.f1_score(y_test, y_pred,average='weighted')"
      ],
      "metadata": {
        "id": "yeNLmhrZl6LQ"
      },
      "execution_count": null,
      "outputs": []
    },
    {
      "cell_type": "code",
      "source": [
        "print('accuracy',accuracy)\n",
        "print('precision',precision)\n",
        "print('recall',recall)\n",
        "print('f1_score',f1_score)"
      ],
      "metadata": {
        "colab": {
          "base_uri": "https://localhost:8080/"
        },
        "id": "N2DKJRnAmEh8",
        "outputId": "886ff465-71e4-4e50-927a-6b6791e848d8"
      },
      "execution_count": null,
      "outputs": [
        {
          "output_type": "stream",
          "name": "stdout",
          "text": [
            "accuracy 0.900709219858156\n",
            "precision 0.8235055724417426\n",
            "recall 0.900709219858156\n",
            "f1_score 0.8603789562824178\n"
          ]
        }
      ]
    },
    {
      "cell_type": "code",
      "source": [
        "#creating scores dictionary and saving each calculation in its array\n",
        "scores_dict = {\"precision\": precision, \"recall\": recall}\n",
        "scores.append(scores_dict)\n",
        "acc.append(accuracy)\n",
        "f1.append(f1_score)\n",
        "estimators.append(print_estimator_name(clf))\n",
        "classifiers.append(clf)"
      ],
      "metadata": {
        "id": "bYo4JT03h8dH"
      },
      "execution_count": null,
      "outputs": []
    },
    {
      "cell_type": "code",
      "source": [
        "# calling precision and recall calculations for each model and converting the dictionary to dataframe for easy comparing\n",
        "scores_df = pd.DataFrame(scores)\n",
        "scores_df"
      ],
      "metadata": {
        "colab": {
          "base_uri": "https://localhost:8080/",
          "height": 81
        },
        "id": "jilMq7DFiLqP",
        "outputId": "e6889420-8b3a-4ac0-c3b1-b0846cb0079f"
      },
      "execution_count": null,
      "outputs": [
        {
          "output_type": "execute_result",
          "data": {
            "text/html": [
              "\n",
              "  <div id=\"df-0beeebff-d410-405a-9883-e71690e4b3ec\">\n",
              "    <div class=\"colab-df-container\">\n",
              "      <div>\n",
              "<style scoped>\n",
              "    .dataframe tbody tr th:only-of-type {\n",
              "        vertical-align: middle;\n",
              "    }\n",
              "\n",
              "    .dataframe tbody tr th {\n",
              "        vertical-align: top;\n",
              "    }\n",
              "\n",
              "    .dataframe thead th {\n",
              "        text-align: right;\n",
              "    }\n",
              "</style>\n",
              "<table border=\"1\" class=\"dataframe\">\n",
              "  <thead>\n",
              "    <tr style=\"text-align: right;\">\n",
              "      <th></th>\n",
              "      <th>precision</th>\n",
              "      <th>recall</th>\n",
              "    </tr>\n",
              "  </thead>\n",
              "  <tbody>\n",
              "    <tr>\n",
              "      <th>0</th>\n",
              "      <td>0.823506</td>\n",
              "      <td>0.900709</td>\n",
              "    </tr>\n",
              "  </tbody>\n",
              "</table>\n",
              "</div>\n",
              "      <button class=\"colab-df-convert\" onclick=\"convertToInteractive('df-0beeebff-d410-405a-9883-e71690e4b3ec')\"\n",
              "              title=\"Convert this dataframe to an interactive table.\"\n",
              "              style=\"display:none;\">\n",
              "        \n",
              "  <svg xmlns=\"http://www.w3.org/2000/svg\" height=\"24px\"viewBox=\"0 0 24 24\"\n",
              "       width=\"24px\">\n",
              "    <path d=\"M0 0h24v24H0V0z\" fill=\"none\"/>\n",
              "    <path d=\"M18.56 5.44l.94 2.06.94-2.06 2.06-.94-2.06-.94-.94-2.06-.94 2.06-2.06.94zm-11 1L8.5 8.5l.94-2.06 2.06-.94-2.06-.94L8.5 2.5l-.94 2.06-2.06.94zm10 10l.94 2.06.94-2.06 2.06-.94-2.06-.94-.94-2.06-.94 2.06-2.06.94z\"/><path d=\"M17.41 7.96l-1.37-1.37c-.4-.4-.92-.59-1.43-.59-.52 0-1.04.2-1.43.59L10.3 9.45l-7.72 7.72c-.78.78-.78 2.05 0 2.83L4 21.41c.39.39.9.59 1.41.59.51 0 1.02-.2 1.41-.59l7.78-7.78 2.81-2.81c.8-.78.8-2.07 0-2.86zM5.41 20L4 18.59l7.72-7.72 1.47 1.35L5.41 20z\"/>\n",
              "  </svg>\n",
              "      </button>\n",
              "      \n",
              "  <style>\n",
              "    .colab-df-container {\n",
              "      display:flex;\n",
              "      flex-wrap:wrap;\n",
              "      gap: 12px;\n",
              "    }\n",
              "\n",
              "    .colab-df-convert {\n",
              "      background-color: #E8F0FE;\n",
              "      border: none;\n",
              "      border-radius: 50%;\n",
              "      cursor: pointer;\n",
              "      display: none;\n",
              "      fill: #1967D2;\n",
              "      height: 32px;\n",
              "      padding: 0 0 0 0;\n",
              "      width: 32px;\n",
              "    }\n",
              "\n",
              "    .colab-df-convert:hover {\n",
              "      background-color: #E2EBFA;\n",
              "      box-shadow: 0px 1px 2px rgba(60, 64, 67, 0.3), 0px 1px 3px 1px rgba(60, 64, 67, 0.15);\n",
              "      fill: #174EA6;\n",
              "    }\n",
              "\n",
              "    [theme=dark] .colab-df-convert {\n",
              "      background-color: #3B4455;\n",
              "      fill: #D2E3FC;\n",
              "    }\n",
              "\n",
              "    [theme=dark] .colab-df-convert:hover {\n",
              "      background-color: #434B5C;\n",
              "      box-shadow: 0px 1px 3px 1px rgba(0, 0, 0, 0.15);\n",
              "      filter: drop-shadow(0px 1px 2px rgba(0, 0, 0, 0.3));\n",
              "      fill: #FFFFFF;\n",
              "    }\n",
              "  </style>\n",
              "\n",
              "      <script>\n",
              "        const buttonEl =\n",
              "          document.querySelector('#df-0beeebff-d410-405a-9883-e71690e4b3ec button.colab-df-convert');\n",
              "        buttonEl.style.display =\n",
              "          google.colab.kernel.accessAllowed ? 'block' : 'none';\n",
              "\n",
              "        async function convertToInteractive(key) {\n",
              "          const element = document.querySelector('#df-0beeebff-d410-405a-9883-e71690e4b3ec');\n",
              "          const dataTable =\n",
              "            await google.colab.kernel.invokeFunction('convertToInteractive',\n",
              "                                                     [key], {});\n",
              "          if (!dataTable) return;\n",
              "\n",
              "          const docLinkHtml = 'Like what you see? Visit the ' +\n",
              "            '<a target=\"_blank\" href=https://colab.research.google.com/notebooks/data_table.ipynb>data table notebook</a>'\n",
              "            + ' to learn more about interactive tables.';\n",
              "          element.innerHTML = '';\n",
              "          dataTable['output_type'] = 'display_data';\n",
              "          await google.colab.output.renderOutput(dataTable, element);\n",
              "          const docLink = document.createElement('div');\n",
              "          docLink.innerHTML = docLinkHtml;\n",
              "          element.appendChild(docLink);\n",
              "        }\n",
              "      </script>\n",
              "    </div>\n",
              "  </div>\n",
              "  "
            ],
            "text/plain": [
              "   precision    recall\n",
              "0   0.823506  0.900709"
            ]
          },
          "metadata": {},
          "execution_count": 45
        }
      ]
    },
    {
      "cell_type": "code",
      "source": [
        "print('classifiers', classifiers)"
      ],
      "metadata": {
        "colab": {
          "base_uri": "https://localhost:8080/"
        },
        "id": "FGO7lkLJiUjw",
        "outputId": "d2bbc269-92d3-4199-887c-fb7fac6d3763"
      },
      "execution_count": null,
      "outputs": [
        {
          "output_type": "stream",
          "name": "stdout",
          "text": [
            "classifiers [DecisionTreeClassifier(criterion='entropy', max_depth=5)]\n"
          ]
        }
      ]
    },
    {
      "cell_type": "code",
      "source": [
        "cf=plot_confusion_matrix(clf,X_test,y_test)\n",
        "plt.show(cf)"
      ],
      "metadata": {
        "colab": {
          "base_uri": "https://localhost:8080/",
          "height": 335
        },
        "id": "bQSBrg-jlJ60",
        "outputId": "82153723-58b0-48b0-edf2-abc79bed6504"
      },
      "execution_count": null,
      "outputs": [
        {
          "output_type": "stream",
          "name": "stderr",
          "text": [
            "/usr/local/lib/python3.7/dist-packages/sklearn/utils/deprecation.py:87: FutureWarning: Function plot_confusion_matrix is deprecated; Function `plot_confusion_matrix` is deprecated in 1.0 and will be removed in 1.2. Use one of the class methods: ConfusionMatrixDisplay.from_predictions or ConfusionMatrixDisplay.from_estimator.\n",
            "  warnings.warn(msg, category=FutureWarning)\n"
          ]
        },
        {
          "output_type": "display_data",
          "data": {
            "image/png": "[encoded data removed]",
            "text/plain": [
              "<Figure size 432x288 with 2 Axes>"
            ]
          },
          "metadata": {
            "needs_background": "light"
          }
        }
      ]
    },
    {
      "cell_type": "code",
      "source": [
        "fig, ax = plt.subplots()\n",
        "width=0.2\n",
        "bar_plot1 = ax.bar(np.arange(len(estimators)),f1,width,tick_label=estimators)\n",
        "bar_plot2 = ax.bar(np.arange(len(estimators))+width,acc,width,tick_label=estimators)\n",
        "\n",
        "ax.set_xlabel('DecisionTree')\n",
        "ax.set_ylabel('Metric Performance')\n",
        "ax.legend(('f1_score','accuracy'),loc='lower right')\n",
        "def autolabel(rects):\n",
        "    for rect in rects:\n",
        "        height = rect.get_height()\n",
        "        ax.text(rect.get_x() + rect.get_width()/2., 0.5*height,height,ha='center', va='bottom', rotation=90)\n",
        "autolabel(bar_plot1)\n",
        "autolabel(bar_plot2)\n",
        "plt.show()"
      ],
      "metadata": {
        "colab": {
          "base_uri": "https://localhost:8080/",
          "height": 278
        },
        "id": "D3egIAbHndw8",
        "outputId": "8fc2ed45-bb80-4c44-cd2a-e3dbb587dd4b"
      },
      "execution_count": null,
      "outputs": [
        {
          "output_type": "display_data",
          "data": {
            "image/png": "[encoded data removed]",
            "text/plain": [
              "<Figure size 432x288 with 1 Axes>"
            ]
          },
          "metadata": {
            "needs_background": "light"
          }
        }
      ]
    }
  ]
}