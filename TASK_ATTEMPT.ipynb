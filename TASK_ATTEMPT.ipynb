{
  "nbformat": 4,
  "nbformat_minor": 0,
  "metadata": {
    "colab": {
      "name": "TASK_ATTEMPT.ipynb",
      "provenance": [],
      "authorship_tag": "ABX9TyNxAH7UOK0DeUwq4j+T4rLg",
      "include_colab_link": true
    },
    "kernelspec": {
      "name": "python3",
      "display_name": "Python 3"
    },
    "language_info": {
      "name": "python"
    }
  },
  "cells": [
    {
      "cell_type": "markdown",
      "metadata": {
        "id": "view-in-github",
        "colab_type": "text"
      },
      "source": [
        "<a href=\"https://colab.research.google.com/github/smartie20/smartie20/blob/main/TASK_ATTEMPT.ipynb\" target=\"_parent\"><img src=\"https://colab.research.google.com/assets/colab-badge.svg\" alt=\"Open In Colab\"/></a>"
      ]
    },
    {
      "cell_type": "code",
      "execution_count": 46,
      "metadata": {
        "id": "VV83_SuL14B1",
        "colab": {
          "base_uri": "https://localhost:8080/"
        },
        "outputId": "6bcdafb4-9ca6-4efa-e6a9-004b9961661e"
      },
      "outputs": [
        {
          "output_type": "execute_result",
          "data": {
            "text/plain": [
              "(array('60', dtype='<U21'),\n",
              " array(['1', '2', 'ai', '4', 'dojo', 'ai', '7', '8', 'ai', 'dojo', '11',\n",
              "        'ai', '13', '14', 'theaidojo', '16', '17', 'ai', '19', 'dojo',\n",
              "        'ai', '22', '23', 'ai', 'dojo', '26', 'ai', '28', '29',\n",
              "        'theaidojo', '31', '32', 'ai', '34', 'dojo', 'ai', '37', '38',\n",
              "        'ai', 'dojo', '41', 'ai', '43', '44', 'theaidojo', '46', '47',\n",
              "        'ai', '49', 'dojo', 'ai', '52', '53', 'ai', 'dojo', '56', 'ai',\n",
              "        '58', '59'], dtype='<U9'))"
            ]
          },
          "metadata": {},
          "execution_count": 46
        }
      ],
      "source": [
        "import numpy as np\n",
        "def aidojo(n = range(1,61), z=[]):\n",
        "    for i in n:\n",
        "       if i % 3==0 and i % 5==0:\n",
        "          z.append('theaidojo')\n",
        "       elif i % 5==0:\n",
        "         z.append('dojo')\n",
        "       elif i % 3==0 :\n",
        "         z.append('ai')\n",
        "       else:\n",
        "         z.append(str(i))\n",
        "         x=len(n)\n",
        "         y=np.array(x).astype(str)\n",
        "         m=np.array(z)\n",
        "         m.reshape(-1)\n",
        "    return y , m\n",
        "aidojo()"
      ]
    },
    {
      "cell_type": "code",
      "source": [
        ""
      ],
      "metadata": {
        "id": "2IrfOAKAMzm-"
      },
      "execution_count": null,
      "outputs": []
    }
  ]
}