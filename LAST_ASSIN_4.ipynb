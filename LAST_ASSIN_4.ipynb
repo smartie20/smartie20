{
  "nbformat": 4,
  "nbformat_minor": 0,
  "metadata": {
    "colab": {
      "name": "LAST ASSIN 4.ipynb",
      "provenance": [],
      "collapsed_sections": [],
      "toc_visible": true,
      "authorship_tag": "ABX9TyOapHjeKrY7oz2j3/x7pjv2",
      "include_colab_link": true
    },
    "kernelspec": {
      "name": "python3",
      "display_name": "Python 3"
    },
    "language_info": {
      "name": "python"
    },
    "accelerator": "GPU"
  },
  "cells": [
    {
      "cell_type": "markdown",
      "metadata": {
        "id": "view-in-github",
        "colab_type": "text"
      },
      "source": [
        "<a href=\"https://colab.research.google.com/github/smartie20/smartie20/blob/main/LAST_ASSIN_4.ipynb\" target=\"_parent\"><img src=\"https://colab.research.google.com/assets/colab-badge.svg\" alt=\"Open In Colab\"/></a>"
      ]
    },
    {
      "cell_type": "markdown",
      "metadata": {
        "id": "mAUjfonO9ScI"
      },
      "source": [
        "#LIBRARIES IMPORTION"
      ]
    },
    {
      "cell_type": "code",
      "metadata": {
        "id": "Or135vQjjDOd"
      },
      "source": [
        "import tensorflow as tf \n",
        "import numpy as np \n",
        "import matplotlib.pyplot as plt\n",
        "from sklearn import metrics,model_selection,preprocessing,svm\n",
        "import pandas as pd\n",
        "from sklearn.tree import DecisionTreeClassifier\n",
        "from sklearn.neighbors import KNeighborsClassifier"
      ],
      "execution_count": null,
      "outputs": []
    },
    {
      "cell_type": "markdown",
      "metadata": {
        "id": "oQkHN1kC9Zg2"
      },
      "source": [
        "#TRAIN-TEST SPLITING AND DATASET READING"
      ]
    },
    {
      "cell_type": "code",
      "metadata": {
        "id": "-xZ-CR4mrSES"
      },
      "source": [
        "(x_train,y_train),(x_test,y_test)=tf.keras.datasets.mnist.load_data()"
      ],
      "execution_count": null,
      "outputs": []
    },
    {
      "cell_type": "markdown",
      "metadata": {
        "id": "Yn3apJbm9zri"
      },
      "source": [
        "#SHAPE AND SIZE FITTING"
      ]
    },
    {
      "cell_type": "code",
      "metadata": {
        "id": "YTCg-e8Gs4B8"
      },
      "source": [
        "x_train=x_train/225\n",
        "x_test=x_test/255\n",
        "x_train=x_train.reshape(-1,28*28)\n",
        "x_test=x_test.reshape(-1,28*28)"
      ],
      "execution_count": null,
      "outputs": []
    },
    {
      "cell_type": "markdown",
      "metadata": {
        "id": "5IfBbCt6-B20"
      },
      "source": [
        "#DATA PROCESSING"
      ]
    },
    {
      "cell_type": "markdown",
      "metadata": {
        "id": "LD9AIxCR-Exe"
      },
      "source": [
        "##ONE HOT ENCODING FOR Y"
      ]
    },
    {
      "cell_type": "code",
      "metadata": {
        "id": "hzqQMAXj983C"
      },
      "source": [
        "y_train_hot=tf.one_hot(y_train,depth=len(set(y_train)))\n",
        "y_test_hot=tf.one_hot(y_test,depth=len(set(y_train)))"
      ],
      "execution_count": null,
      "outputs": []
    },
    {
      "cell_type": "markdown",
      "metadata": {
        "id": "DymAsq_t-L3a"
      },
      "source": [
        "##NORMALIZATION FOR X"
      ]
    },
    {
      "cell_type": "code",
      "metadata": {
        "id": "JQYK1HAY99t3"
      },
      "source": [
        "x_train=tf.keras.utils.normalize(x_train,axis=1)\n",
        "x_test=tf.keras.utils.normalize(x_test,axis=1)"
      ],
      "execution_count": null,
      "outputs": []
    },
    {
      "cell_type": "markdown",
      "metadata": {
        "id": "gjnzmt3fcm_Z"
      },
      "source": [
        "#SLICING"
      ]
    },
    {
      "cell_type": "markdown",
      "metadata": {
        "id": "MCCnnmpj-rkP"
      },
      "source": [
        "##SLICING STEP TO MAKE THE DATA FIT THE REQUIREMENTS(30000 TRAINING SAMPLES , 5000 VALIDATION SAMPLES) FOR DNN"
      ]
    },
    {
      "cell_type": "code",
      "metadata": {
        "id": "uroF-3REmtAQ"
      },
      "source": [
        "x_train1=x_train[:30000]\n",
        "y_train1=y_train_hot[:30000]\n",
        "x_val=x_train[30000:35000]\n",
        "y_val=y_train_hot[30000:35000]"
      ],
      "execution_count": null,
      "outputs": []
    },
    {
      "cell_type": "markdown",
      "metadata": {
        "id": "E_Nk2-oOcrVF"
      },
      "source": [
        "###SLICING CHECK"
      ]
    },
    {
      "cell_type": "code",
      "metadata": {
        "colab": {
          "base_uri": "https://localhost:8080/"
        },
        "id": "DKvaRXNmLu3q",
        "outputId": "91179586-0eae-41e0-a909-2cbf2a1f9137"
      },
      "source": [
        "x_train1.shape"
      ],
      "execution_count": null,
      "outputs": [
        {
          "output_type": "execute_result",
          "data": {
            "text/plain": [
              "(30000, 784)"
            ]
          },
          "metadata": {},
          "execution_count": 281
        }
      ]
    },
    {
      "cell_type": "code",
      "metadata": {
        "colab": {
          "base_uri": "https://localhost:8080/"
        },
        "id": "CuNid_kuLuaf",
        "outputId": "39b87778-4664-493b-f98c-ac5fa16b5c56"
      },
      "source": [
        "x_val.shape"
      ],
      "execution_count": null,
      "outputs": [
        {
          "output_type": "execute_result",
          "data": {
            "text/plain": [
              "(5000, 784)"
            ]
          },
          "metadata": {},
          "execution_count": 282
        }
      ]
    },
    {
      "cell_type": "markdown",
      "metadata": {
        "id": "EVJEvV37c3vr"
      },
      "source": [
        "##SLICING STEP TO MAKE THE DATA FIT THE REQUIREMENTS(30000 TRAINING SAMPLES , 5000 TESTING SAMPLES) FOR THE NEXT THREE MODELS"
      ]
    },
    {
      "cell_type": "code",
      "metadata": {
        "id": "I0byO3tVZj5J"
      },
      "source": [
        "x_train2=x_train[5000:35000]\n",
        "y_train2=y_train[5000:35000]\n",
        "x_test=x_test[:5000]\n",
        "y_test=y_test[:5000]"
      ],
      "execution_count": null,
      "outputs": []
    },
    {
      "cell_type": "markdown",
      "metadata": {
        "id": "o-RyPeSeEh42"
      },
      "source": [
        "###SLICING CHECK"
      ]
    },
    {
      "cell_type": "code",
      "metadata": {
        "colab": {
          "base_uri": "https://localhost:8080/"
        },
        "id": "fNstdlMi-kXU",
        "outputId": "76174970-4449-4dff-9d0e-8b3aa77307f3"
      },
      "source": [
        "x_train2.shape"
      ],
      "execution_count": null,
      "outputs": [
        {
          "output_type": "execute_result",
          "data": {
            "text/plain": [
              "(30000, 784)"
            ]
          },
          "metadata": {},
          "execution_count": 300
        }
      ]
    },
    {
      "cell_type": "code",
      "metadata": {
        "colab": {
          "base_uri": "https://localhost:8080/"
        },
        "id": "2reuFG1l-kKI",
        "outputId": "21085093-567c-4274-8150-2044232d4981"
      },
      "source": [
        "x_test.shape"
      ],
      "execution_count": null,
      "outputs": [
        {
          "output_type": "execute_result",
          "data": {
            "text/plain": [
              "(5000, 784)"
            ]
          },
          "metadata": {},
          "execution_count": 285
        }
      ]
    },
    {
      "cell_type": "markdown",
      "metadata": {
        "id": "PH3XFZ6f_F33"
      },
      "source": [
        "#MODEL SELECTION"
      ]
    },
    {
      "cell_type": "markdown",
      "metadata": {
        "id": "ELzYHJXk_I5r"
      },
      "source": [
        "##MODEL1:- DNN"
      ]
    },
    {
      "cell_type": "code",
      "metadata": {
        "id": "simAD88GgkrV"
      },
      "source": [
        "model=tf.keras.models.Sequential([\n",
        "                                  tf.keras.layers.Flatten(),\n",
        "                                  tf.keras.layers.Dense(units=128,activation=tf.nn.leaky_relu,kernel_initializer=tf.initializers.he_uniform(seed=42),name='layer_1'),\n",
        "                                  tf.keras.layers.Dropout(0.5),\n",
        "                                  tf.keras.layers.Dense(units=128,activation=tf.nn.leaky_relu,kernel_initializer=tf.initializers.he_uniform(seed=42),name='layer_2'),\n",
        "                                  tf.keras.layers.Dropout(0.5),\n",
        "                                  tf.keras.layers.Dense(units=10,activation=tf.nn.softmax,name='output')\n",
        "                                  ])"
      ],
      "execution_count": null,
      "outputs": []
    },
    {
      "cell_type": "markdown",
      "metadata": {
        "id": "5Lu2ioWr_Rq6"
      },
      "source": [
        "###FITTING AND OPTIMIZATION"
      ]
    },
    {
      "cell_type": "code",
      "metadata": {
        "id": "szPwP99WgoKu",
        "colab": {
          "base_uri": "https://localhost:8080/",
          "height": 163
        },
        "outputId": "53edbc81-c75b-4010-bd1f-0c0779f6d67b"
      },
      "source": [
        "model.compile(optimizer=tf.optimizers.Adam(),loss=tf.losses.categorical_crossentropy,metrics=['acc'])"
      ],
      "execution_count": null,
      "outputs": [
        {
          "output_type": "error",
          "ename": "NameError",
          "evalue": "ignored",
          "traceback": [
            "\u001b[0;31m---------------------------------------------------------------------------\u001b[0m",
            "\u001b[0;31mNameError\u001b[0m                                 Traceback (most recent call last)",
            "\u001b[0;32m<ipython-input-1-94269881d976>\u001b[0m in \u001b[0;36m<module>\u001b[0;34m()\u001b[0m\n\u001b[0;32m----> 1\u001b[0;31m \u001b[0mmodel\u001b[0m\u001b[0;34m.\u001b[0m\u001b[0mcompile\u001b[0m\u001b[0;34m(\u001b[0m\u001b[0moptimizer\u001b[0m\u001b[0;34m=\u001b[0m\u001b[0mtf\u001b[0m\u001b[0;34m.\u001b[0m\u001b[0moptimizers\u001b[0m\u001b[0;34m.\u001b[0m\u001b[0mAdam\u001b[0m\u001b[0;34m(\u001b[0m\u001b[0;34m)\u001b[0m\u001b[0;34m,\u001b[0m\u001b[0mloss\u001b[0m\u001b[0;34m=\u001b[0m\u001b[0mtf\u001b[0m\u001b[0;34m.\u001b[0m\u001b[0mlosses\u001b[0m\u001b[0;34m.\u001b[0m\u001b[0mhinge_loss\u001b[0m\u001b[0;34m,\u001b[0m\u001b[0mmetrics\u001b[0m\u001b[0;34m=\u001b[0m\u001b[0;34m[\u001b[0m\u001b[0;34m'acc'\u001b[0m\u001b[0;34m]\u001b[0m\u001b[0;34m)\u001b[0m\u001b[0;34m\u001b[0m\u001b[0;34m\u001b[0m\u001b[0m\n\u001b[0m",
            "\u001b[0;31mNameError\u001b[0m: name 'model' is not defined"
          ]
        }
      ]
    },
    {
      "cell_type": "code",
      "metadata": {
        "id": "x7WOgUqqgxCn",
        "colab": {
          "base_uri": "https://localhost:8080/"
        },
        "outputId": "9baf8472-03fb-4d03-bfc3-a6cdd5e2c1a6"
      },
      "source": [
        "model.fit(x=x_train1,y=y_train1,batch_size=32,epochs=20,verbose=1,validation_data=(x_val,y_val))"
      ],
      "execution_count": null,
      "outputs": [
        {
          "output_type": "stream",
          "name": "stdout",
          "text": [
            "Epoch 1/20\n",
            "938/938 [==============================] - 5s 4ms/step - loss: 0.6875 - acc: 0.7902 - val_loss: 0.3182 - val_acc: 0.9062\n",
            "Epoch 2/20\n",
            "938/938 [==============================] - 4s 4ms/step - loss: 0.3585 - acc: 0.8938 - val_loss: 0.2557 - val_acc: 0.9242\n",
            "Epoch 3/20\n",
            "938/938 [==============================] - 4s 4ms/step - loss: 0.2985 - acc: 0.9134 - val_loss: 0.2273 - val_acc: 0.9310\n",
            "Epoch 4/20\n",
            "938/938 [==============================] - 4s 4ms/step - loss: 0.2687 - acc: 0.9214 - val_loss: 0.2066 - val_acc: 0.9368\n",
            "Epoch 5/20\n",
            "938/938 [==============================] - 4s 4ms/step - loss: 0.2455 - acc: 0.9280 - val_loss: 0.2007 - val_acc: 0.9414\n",
            "Epoch 6/20\n",
            "938/938 [==============================] - 4s 4ms/step - loss: 0.2277 - acc: 0.9315 - val_loss: 0.1782 - val_acc: 0.9480\n",
            "Epoch 7/20\n",
            "938/938 [==============================] - 4s 4ms/step - loss: 0.2169 - acc: 0.9354 - val_loss: 0.1712 - val_acc: 0.9502\n",
            "Epoch 8/20\n",
            "938/938 [==============================] - 4s 4ms/step - loss: 0.2050 - acc: 0.9379 - val_loss: 0.1662 - val_acc: 0.9540\n",
            "Epoch 9/20\n",
            "938/938 [==============================] - 4s 4ms/step - loss: 0.1995 - acc: 0.9394 - val_loss: 0.1585 - val_acc: 0.9538\n",
            "Epoch 10/20\n",
            "938/938 [==============================] - 4s 4ms/step - loss: 0.1912 - acc: 0.9422 - val_loss: 0.1571 - val_acc: 0.9536\n",
            "Epoch 11/20\n",
            "938/938 [==============================] - 4s 4ms/step - loss: 0.1847 - acc: 0.9443 - val_loss: 0.1494 - val_acc: 0.9590\n",
            "Epoch 12/20\n",
            "938/938 [==============================] - 4s 4ms/step - loss: 0.1817 - acc: 0.9455 - val_loss: 0.1501 - val_acc: 0.9578\n",
            "Epoch 13/20\n",
            "938/938 [==============================] - 4s 4ms/step - loss: 0.1740 - acc: 0.9469 - val_loss: 0.1505 - val_acc: 0.9570\n",
            "Epoch 14/20\n",
            "938/938 [==============================] - 4s 4ms/step - loss: 0.1739 - acc: 0.9456 - val_loss: 0.1441 - val_acc: 0.9590\n",
            "Epoch 15/20\n",
            "938/938 [==============================] - 4s 4ms/step - loss: 0.1603 - acc: 0.9510 - val_loss: 0.1454 - val_acc: 0.9576\n",
            "Epoch 16/20\n",
            "938/938 [==============================] - 4s 4ms/step - loss: 0.1655 - acc: 0.9491 - val_loss: 0.1463 - val_acc: 0.9564\n",
            "Epoch 17/20\n",
            "938/938 [==============================] - 4s 4ms/step - loss: 0.1632 - acc: 0.9488 - val_loss: 0.1386 - val_acc: 0.9594\n",
            "Epoch 18/20\n",
            "938/938 [==============================] - 4s 4ms/step - loss: 0.1573 - acc: 0.9517 - val_loss: 0.1501 - val_acc: 0.9590\n",
            "Epoch 19/20\n",
            "938/938 [==============================] - 4s 4ms/step - loss: 0.1529 - acc: 0.9525 - val_loss: 0.1415 - val_acc: 0.9618\n",
            "Epoch 20/20\n",
            "938/938 [==============================] - 4s 4ms/step - loss: 0.1503 - acc: 0.9539 - val_loss: 0.1457 - val_acc: 0.9604\n"
          ]
        },
        {
          "output_type": "execute_result",
          "data": {
            "text/plain": [
              "<keras.callbacks.History at 0x7f3b5953ee50>"
            ]
          },
          "metadata": {},
          "execution_count": 288
        }
      ]
    },
    {
      "cell_type": "markdown",
      "metadata": {
        "id": "fDPJ0CQw_Xx4"
      },
      "source": [
        "###ACCURACY_LOSS GRAPH"
      ]
    },
    {
      "cell_type": "code",
      "metadata": {
        "colab": {
          "base_uri": "https://localhost:8080/",
          "height": 286
        },
        "id": "_LZD4xS_g0X2",
        "outputId": "5f6ba17e-850f-4ca5-c124-0fd315d709c5"
      },
      "source": [
        "hist_df=pd.DataFrame(model.history.history)\n",
        "hist_df.plot()"
      ],
      "execution_count": null,
      "outputs": [
        {
          "output_type": "execute_result",
          "data": {
            "text/plain": [
              "<matplotlib.axes._subplots.AxesSubplot at 0x7f3b593b3310>"
            ]
          },
          "metadata": {},
          "execution_count": 289
        },
        {
          "output_type": "display_data",
          "data": {
            "image/png": "[encoded data removed]",
            "text/plain": [
              "<Figure size 432x288 with 1 Axes>"
            ]
          },
          "metadata": {
            "needs_background": "light"
          }
        }
      ]
    },
    {
      "cell_type": "markdown",
      "metadata": {
        "id": "WXCzFgPJ_dvo"
      },
      "source": [
        "###PREDICTION AND REZULTS FOR DNN"
      ]
    },
    {
      "cell_type": "code",
      "metadata": {
        "colab": {
          "base_uri": "https://localhost:8080/"
        },
        "id": "3jGRXmfDiAcs",
        "outputId": "0968f9d3-6c34-483f-966d-cd7bf1e56d1f"
      },
      "source": [
        "pred=model.predict(x_test)\n",
        "tf.argmax(pred,axis=-1)"
      ],
      "execution_count": null,
      "outputs": [
        {
          "output_type": "execute_result",
          "data": {
            "text/plain": [
              "<tf.Tensor: shape=(5000,), dtype=int64, numpy=array([7, 2, 1, ..., 2, 4, 0])>"
            ]
          },
          "metadata": {},
          "execution_count": 290
        }
      ]
    },
    {
      "cell_type": "code",
      "metadata": {
        "colab": {
          "base_uri": "https://localhost:8080/"
        },
        "id": "fJBh-XxLiJwf",
        "outputId": "5f28cd6d-a2b5-4eeb-8a29-57e5700096ed"
      },
      "source": [
        "y_test"
      ],
      "execution_count": null,
      "outputs": [
        {
          "output_type": "execute_result",
          "data": {
            "text/plain": [
              "array([7, 2, 1, ..., 2, 4, 0], dtype=uint8)"
            ]
          },
          "metadata": {},
          "execution_count": 291
        }
      ]
    },
    {
      "cell_type": "markdown",
      "metadata": {
        "id": "Yr9GmwbV_mo0"
      },
      "source": [
        "##MODEL2:-SUPPORT VECTOR MACHINE"
      ]
    },
    {
      "cell_type": "code",
      "metadata": {
        "colab": {
          "base_uri": "https://localhost:8080/"
        },
        "id": "rhUTBjxUiNBO",
        "outputId": "f9391ac3-c8e6-48bb-d493-7826b93349a7"
      },
      "source": [
        "SVM_model=svm.SVC()\n",
        "SVM_model.fit(x_train,y_train)"
      ],
      "execution_count": null,
      "outputs": [
        {
          "output_type": "execute_result",
          "data": {
            "text/plain": [
              "SVC(C=1.0, break_ties=False, cache_size=200, class_weight=None, coef0=0.0,\n",
              "    decision_function_shape='ovr', degree=3, gamma='scale', kernel='rbf',\n",
              "    max_iter=-1, probability=False, random_state=None, shrinking=True,\n",
              "    tol=0.001, verbose=False)"
            ]
          },
          "metadata": {},
          "execution_count": 292
        }
      ]
    },
    {
      "cell_type": "markdown",
      "metadata": {
        "id": "o_zdAB48_wLp"
      },
      "source": [
        "###PREDICTION AND RESULTS FOR SVM"
      ]
    },
    {
      "cell_type": "code",
      "metadata": {
        "id": "bK-MOVt3iPUr"
      },
      "source": [
        "y_pred =SVM_model.predict(x_test)"
      ],
      "execution_count": null,
      "outputs": []
    },
    {
      "cell_type": "code",
      "metadata": {
        "colab": {
          "base_uri": "https://localhost:8080/"
        },
        "id": "uiEw3YS2kYVX",
        "outputId": "12da5797-066f-46e7-b672-6794f6fc4a16"
      },
      "source": [
        "print(\"accuracy_score : \",metrics.accuracy_score(y_test, y_pred))\n",
        "print(\"recall_score : \",metrics.recall_score(y_test, y_pred,average='weighted'))\n",
        "print(\"Precision Score : \", metrics.precision_score(y_test, y_pred,average='weighted'))\n",
        "print(\"f1_score : \",metrics.f1_score(y_test, y_pred,average='weighted'))"
      ],
      "execution_count": null,
      "outputs": [
        {
          "output_type": "stream",
          "name": "stdout",
          "text": [
            "accuracy_score :  0.974\n",
            "recall_score :  0.974\n",
            "Precision Score :  0.9740096208799998\n",
            "f1_score :  0.9739558527933303\n"
          ]
        }
      ]
    },
    {
      "cell_type": "markdown",
      "metadata": {
        "id": "3b4tCqcj_08d"
      },
      "source": [
        "##MODEL3:-DECISION TREE"
      ]
    },
    {
      "cell_type": "code",
      "metadata": {
        "id": "5s9sJASXnhzW"
      },
      "source": [
        "clf = DecisionTreeClassifier()\n",
        "clf = clf.fit(x_train,y_train)"
      ],
      "execution_count": null,
      "outputs": []
    },
    {
      "cell_type": "markdown",
      "metadata": {
        "id": "OA0LthHsAAxm"
      },
      "source": [
        "###PREDICTION AND RESULTS FOR DECISION TREE"
      ]
    },
    {
      "cell_type": "code",
      "metadata": {
        "id": "vjPp5GWm_-GB"
      },
      "source": [
        "y_pred = clf.predict(x_test)"
      ],
      "execution_count": null,
      "outputs": []
    },
    {
      "cell_type": "code",
      "metadata": {
        "colab": {
          "base_uri": "https://localhost:8080/"
        },
        "id": "qpMmILVHxrsU",
        "outputId": "53b33e79-6709-42ec-8409-eb02a9ef517f"
      },
      "source": [
        "print(\"Accuracy:\",metrics.accuracy_score(y_test, y_pred))\n",
        "print(\"recall_score : \",metrics.recall_score(y_test, y_pred,average='weighted'))\n",
        "print(\"Precision Score : \", metrics.precision_score(y_test, y_pred,average='weighted'))\n",
        "print(\"f1_score : \",metrics.f1_score(y_test, y_pred,average='weighted'))"
      ],
      "execution_count": null,
      "outputs": [
        {
          "output_type": "stream",
          "name": "stdout",
          "text": [
            "Accuracy: 0.8588\n",
            "recall_score :  0.8588\n",
            "Precision Score :  0.8590720290727102\n",
            "f1_score :  0.8584923089283302\n"
          ]
        }
      ]
    },
    {
      "cell_type": "markdown",
      "metadata": {
        "id": "GcBnRzGyAIfw"
      },
      "source": [
        "##MODEL4:-KNEIGHBORS CLASSIFIER"
      ]
    },
    {
      "cell_type": "code",
      "metadata": {
        "id": "Tm9dYjTp6xcP",
        "colab": {
          "base_uri": "https://localhost:8080/"
        },
        "outputId": "744f1ee9-384f-42bf-d016-2a303de9a604"
      },
      "source": [
        "knn= KNeighborsClassifier()\n",
        "knn.fit(x_train, y_train)"
      ],
      "execution_count": null,
      "outputs": [
        {
          "output_type": "execute_result",
          "data": {
            "text/plain": [
              "KNeighborsClassifier(algorithm='auto', leaf_size=30, metric='minkowski',\n",
              "                     metric_params=None, n_jobs=None, n_neighbors=5, p=2,\n",
              "                     weights='uniform')"
            ]
          },
          "metadata": {},
          "execution_count": 298
        }
      ]
    },
    {
      "cell_type": "markdown",
      "metadata": {
        "id": "UXNWChq3AXmk"
      },
      "source": [
        "###PREDICTION AND RESULTS FOR KNEIGHBORS CLASSIFIER"
      ]
    },
    {
      "cell_type": "code",
      "metadata": {
        "id": "ejA30gQ-AW9E"
      },
      "source": [
        "y_pred = knn.predict(x_test)"
      ],
      "execution_count": null,
      "outputs": []
    },
    {
      "cell_type": "code",
      "metadata": {
        "colab": {
          "base_uri": "https://localhost:8080/"
        },
        "id": "OO_q_O-G60c5",
        "outputId": "c10bae44-d190-4c21-f1b2-d248c174d390"
      },
      "source": [
        "print(\"Accuracy:\",metrics.accuracy_score(y_test, y_pred))\n",
        "print(\"recall_score : \",metrics.recall_score(y_test, y_pred,average='weighted'))\n",
        "print(\"Precision Score : \", metrics.precision_score(y_test, y_pred,average='weighted'))\n",
        "print(\"f1_score : \",metrics.f1_score(y_test, y_pred,average='weighted'))"
      ],
      "execution_count": null,
      "outputs": [
        {
          "output_type": "stream",
          "name": "stdout",
          "text": [
            "Accuracy: 0.9614\n",
            "recall_score :  0.9614\n",
            "Precision Score :  0.9616490678571988\n",
            "f1_score :  0.9613227692168055\n"
          ]
        }
      ]
    },
    {
      "cell_type": "markdown",
      "metadata": {
        "id": "HYVtacjvFB37"
      },
      "source": [
        "#SELECTING THE BEST MODEL"
      ]
    },
    {
      "cell_type": "markdown",
      "metadata": {
        "id": "M6X_zOgaFKlP"
      },
      "source": [
        "***BY COMARING LOSSES AND ACCURACIES OF THE FOUR MODELS WE FOUND SUPPORT VECTOR MACHINE (SVM) IS THE BEST MODEL BECAUSE THE MODEL HAS THE HIGHEST ACCURACY RATE AND LOWEST LOSS***"
      ]
    },
    {
      "cell_type": "markdown",
      "metadata": {
        "id": "-TNX6_bEFnC9"
      },
      "source": [
        "#IMPORTANT NOTES"
      ]
    },
    {
      "cell_type": "markdown",
      "metadata": {
        "id": "l2ccPv5wFsNj"
      },
      "source": [
        "# **CHANGE THE RUNTIME TYPE TO GPU TO PREVENT WASTING TIME DURING THE TRAINFITTING OF THE MODELS**"
      ]
    }
  ]
}